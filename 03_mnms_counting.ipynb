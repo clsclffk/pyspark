{
 "cells": [
  {
   "cell_type": "code",
   "execution_count": 1,
   "id": "b1f0d0d1",
   "metadata": {},
   "outputs": [
    {
     "name": "stderr",
     "output_type": "stream",
     "text": [
      "24/12/03 16:52:30 WARN NativeCodeLoader: Unable to load native-hadoop library for your platform... using builtin-java classes where applicable\n",
      "Using Spark's default log4j profile: org/apache/spark/log4j-defaults.properties\n",
      "Setting default log level to \"WARN\".\n",
      "To adjust logging level use sc.setLogLevel(newLevel). For SparkR, use setLogLevel(newLevel).\n"
     ]
    }
   ],
   "source": [
    "from pyspark import SparkConf, SparkContext\n",
    "\n",
    "conf = SparkConf().setMaster('local').setAppName('state-color-count')\n",
    "spark = SparkContext(conf=conf).getOrCreate()"
   ]
  },
  {
   "cell_type": "code",
   "execution_count": 4,
   "id": "a41538f4",
   "metadata": {},
   "outputs": [
    {
     "data": {
      "text/plain": [
       "file:////home/lab11/src/data/mnm_dataset.csv MapPartitionsRDD[4] at textFile at NativeMethodAccessorImpl.java:0"
      ]
     },
     "execution_count": 4,
     "metadata": {},
     "output_type": "execute_result"
    }
   ],
   "source": [
    "import os\n",
    "\n",
    "directory = os.path.join(os.getcwd(), 'data')\n",
    "filename = 'mnm_dataset.csv'\n",
    "filepath = os.path.join(directory, filename)\n",
    "lines = spark.textFile('file:///'+filepath.replace('\\\\', '/'))\n",
    "lines"
   ]
  },
  {
   "cell_type": "code",
   "execution_count": 5,
   "id": "45f64088",
   "metadata": {},
   "outputs": [
    {
     "data": {
      "text/plain": [
       "['State,Color,Count', 'TX,Red,20', 'NV,Blue,66', 'CO,Blue,79', 'OR,Blue,71']"
      ]
     },
     "execution_count": 5,
     "metadata": {},
     "output_type": "execute_result"
    }
   ],
   "source": [
    "lines.take(5)"
   ]
  },
  {
   "cell_type": "code",
   "execution_count": null,
   "id": "9d18a20c",
   "metadata": {},
   "outputs": [],
   "source": [
    "header = lines.first()"
   ]
  },
  {
   "cell_type": "code",
   "execution_count": null,
   "id": "b67c99f1",
   "metadata": {},
   "outputs": [],
   "source": [
    "data = lines.filter(lambda row:row != header)"
   ]
  },
  {
   "cell_type": "code",
   "execution_count": null,
   "id": "7be2eb47",
   "metadata": {},
   "outputs": [],
   "source": [
    "mnms_data = data.map(lambda row:row.split(\",\"))"
   ]
  },
  {
   "cell_type": "code",
   "execution_count": null,
   "id": "7edb42d9",
   "metadata": {},
   "outputs": [],
   "source": [
    "mnms_data.collect()[:3]"
   ]
  },
  {
   "cell_type": "code",
   "execution_count": null,
   "id": "f9697cd1",
   "metadata": {},
   "outputs": [],
   "source": [
    "blue_data = mnms_data.filter(lambda row: row[1]==\"Blue\")\n",
    "blue_data.collect()"
   ]
  },
  {
   "cell_type": "code",
   "execution_count": null,
   "id": "03d1c614",
   "metadata": {},
   "outputs": [],
   "source": [
    "count_sum = mnms_data.map(lambda row: int(row[2])).sum()\n",
    "print(f\"Total Count: {count_sum}\")"
   ]
  },
  {
   "cell_type": "code",
   "execution_count": null,
   "id": "5cd7737e",
   "metadata": {},
   "outputs": [],
   "source": [
    "city_rdd = mnms_data.map(lambda row: (row[0], int(row[2])))\n",
    "city_total_data = city_rdd.reduceByKey(lambda a,b: a+b)\n",
    "print(city_total_data.collect())"
   ]
  },
  {
   "cell_type": "code",
   "execution_count": null,
   "id": "02a2f9ce",
   "metadata": {},
   "outputs": [],
   "source": [
    "spark.stop()"
   ]
  }
 ],
 "metadata": {
  "kernelspec": {
   "display_name": "Python (spark_start)",
   "language": "python",
   "name": "spark_start"
  },
  "language_info": {
   "codemirror_mode": {
    "name": "ipython",
    "version": 3
   },
   "file_extension": ".py",
   "mimetype": "text/x-python",
   "name": "python",
   "nbconvert_exporter": "python",
   "pygments_lexer": "ipython3",
   "version": "3.8.20"
  }
 },
 "nbformat": 4,
 "nbformat_minor": 5
}

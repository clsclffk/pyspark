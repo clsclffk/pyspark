{
 "cells": [
  {
   "cell_type": "code",
   "execution_count": 1,
   "id": "c9892e03",
   "metadata": {},
   "outputs": [
    {
     "name": "stderr",
     "output_type": "stream",
     "text": [
      "24/12/05 14:23:48 WARN NativeCodeLoader: Unable to load native-hadoop library for your platform... using builtin-java classes where applicable\n",
      "Using Spark's default log4j profile: org/apache/spark/log4j-defaults.properties\n",
      "Setting default log level to \"WARN\".\n",
      "To adjust logging level use sc.setLogLevel(newLevel). For SparkR, use setLogLevel(newLevel).\n"
     ]
    }
   ],
   "source": [
    "from pyspark import SparkConf, SparkContext\n",
    "\n",
    "conf = SparkConf().setMaster('local').setAppName('partition')\n",
    "spark = SparkContext(conf=conf).getOrCreate()"
   ]
  },
  {
   "cell_type": "code",
   "execution_count": 2,
   "id": "d9589313",
   "metadata": {},
   "outputs": [],
   "source": [
    "pairs = spark.parallelize(\n",
    "[\n",
    "    1,2,3,4,2,4,1\n",
    "]).map(lambda x:(x,x))"
   ]
  },
  {
   "cell_type": "code",
   "execution_count": 3,
   "id": "1043a38f",
   "metadata": {},
   "outputs": [
    {
     "name": "stderr",
     "output_type": "stream",
     "text": [
      "                                                                                \r"
     ]
    },
    {
     "data": {
      "text/plain": [
       "[(1, 1), (2, 2), (3, 3)]"
      ]
     },
     "execution_count": 3,
     "metadata": {},
     "output_type": "execute_result"
    }
   ],
   "source": [
    "pairs.take(3)"
   ]
  },
  {
   "cell_type": "code",
   "execution_count": 4,
   "id": "395ed6a6",
   "metadata": {},
   "outputs": [
    {
     "data": {
      "text/plain": [
       "[[(1, 1), (2, 2), (3, 3), (4, 4), (2, 2), (4, 4), (1, 1)]]"
      ]
     },
     "execution_count": 4,
     "metadata": {},
     "output_type": "execute_result"
    }
   ],
   "source": [
    "# glom() : 파티션 현황\n",
    "pairs.glom().collect()"
   ]
  },
  {
   "cell_type": "code",
   "execution_count": 5,
   "id": "67b141b6",
   "metadata": {},
   "outputs": [
    {
     "data": {
      "text/plain": [
       "[[(2, 2), (4, 4), (2, 2), (4, 4)], [(1, 1), (3, 3), (1, 1)]]"
      ]
     },
     "execution_count": 5,
     "metadata": {},
     "output_type": "execute_result"
    }
   ],
   "source": [
    "pairs.partitionBy(2).glom().collect()"
   ]
  },
  {
   "cell_type": "code",
   "execution_count": 7,
   "id": "a7963c96",
   "metadata": {},
   "outputs": [
    {
     "data": {
      "text/plain": [
       "[[(2, 2), (4, 4), (2, 2), (4, 4)], [(1, 1), (3, 3), (1, 1)]]"
      ]
     },
     "execution_count": 7,
     "metadata": {},
     "output_type": "execute_result"
    }
   ],
   "source": [
    "# 파티션별로 규칙에 따라 데이터 넣기\n",
    "pairs.partitionBy(2, lambda x:x%2).glom().collect()"
   ]
  },
  {
   "cell_type": "code",
   "execution_count": 9,
   "id": "b42d1f34",
   "metadata": {},
   "outputs": [],
   "source": [
    "new_pairs = pairs.partitionBy(2, lambda x:x%2).glom().persist()"
   ]
  },
  {
   "cell_type": "code",
   "execution_count": 10,
   "id": "fdd94520",
   "metadata": {},
   "outputs": [],
   "source": [
    "spark.stop()"
   ]
  }
 ],
 "metadata": {
  "kernelspec": {
   "display_name": "Python (spark_start)",
   "language": "python",
   "name": "spark_start"
  },
  "language_info": {
   "codemirror_mode": {
    "name": "ipython",
    "version": 3
   },
   "file_extension": ".py",
   "mimetype": "text/x-python",
   "name": "python",
   "nbconvert_exporter": "python",
   "pygments_lexer": "ipython3",
   "version": "3.8.20"
  }
 },
 "nbformat": 4,
 "nbformat_minor": 5
}

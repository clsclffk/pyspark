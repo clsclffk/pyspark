{
 "cells": [
  {
   "cell_type": "code",
   "execution_count": 1,
   "id": "bd4af0e1",
   "metadata": {},
   "outputs": [
    {
     "name": "stderr",
     "output_type": "stream",
     "text": [
      "24/12/05 10:57:11 WARN NativeCodeLoader: Unable to load native-hadoop library for your platform... using builtin-java classes where applicable\n",
      "Using Spark's default log4j profile: org/apache/spark/log4j-defaults.properties\n",
      "Setting default log level to \"WARN\".\n",
      "To adjust logging level use sc.setLogLevel(newLevel). For SparkR, use setLogLevel(newLevel).\n"
     ]
    }
   ],
   "source": [
    "from pyspark import SparkConf, SparkContext\n",
    "\n",
    "conf = SparkConf().setMaster('local').setAppName('reduce')\n",
    "spark = SparkContext(conf=conf).getOrCreate()"
   ]
  },
  {
   "cell_type": "markdown",
   "id": "796a08c3",
   "metadata": {},
   "source": [
    "# reduce()\n",
    "- 여러 개의 값을 하나로 축약\n",
    "- reduce 연산은 순서 의존적\n",
    "- 각 파티션 내에서 연산은 독립적으로 실행, 최종 결과는 파티션 간의 결과가 결합"
   ]
  },
  {
   "cell_type": "code",
   "execution_count": 2,
   "id": "a8abe46e",
   "metadata": {},
   "outputs": [
    {
     "data": {
      "text/plain": [
       "ParallelCollectionRDD[0] at readRDDFromFile at PythonRDD.scala:274"
      ]
     },
     "execution_count": 2,
     "metadata": {},
     "output_type": "execute_result"
    }
   ],
   "source": [
    "sample_rdd = spark.parallelize([1,2,3,4,5])\n",
    "sample_rdd"
   ]
  },
  {
   "cell_type": "code",
   "execution_count": 3,
   "id": "5aea4467",
   "metadata": {},
   "outputs": [
    {
     "name": "stderr",
     "output_type": "stream",
     "text": [
      "                                                                                \r"
     ]
    },
    {
     "data": {
      "text/plain": [
       "15"
      ]
     },
     "execution_count": 3,
     "metadata": {},
     "output_type": "execute_result"
    }
   ],
   "source": [
    "from operator import add\n",
    "\n",
    "sample_rdd.reduce(add)"
   ]
  },
  {
   "cell_type": "code",
   "execution_count": 5,
   "id": "ed31b9fe",
   "metadata": {},
   "outputs": [
    {
     "data": {
      "text/plain": [
       "26"
      ]
     },
     "execution_count": 5,
     "metadata": {},
     "output_type": "execute_result"
    }
   ],
   "source": [
    "# partition이 나뉘어져 있을 때 \n",
    "sample_rdd1 = spark.parallelize([1,2,3,4])\n",
    "sample_rdd1.reduce(lambda x, y:(x*2)+y)"
   ]
  },
  {
   "cell_type": "code",
   "execution_count": 6,
   "id": "2bd17a20",
   "metadata": {},
   "outputs": [
    {
     "data": {
      "text/plain": [
       "[[1, 2, 3, 4]]"
      ]
     },
     "execution_count": 6,
     "metadata": {},
     "output_type": "execute_result"
    }
   ],
   "source": [
    "# partition 1개일 때 \n",
    "sample_rdd1.glom().collect()"
   ]
  },
  {
   "cell_type": "code",
   "execution_count": 7,
   "id": "350d2b7c",
   "metadata": {},
   "outputs": [
    {
     "data": {
      "text/plain": [
       "[[1, 2], [3, 4]]"
      ]
     },
     "execution_count": 7,
     "metadata": {},
     "output_type": "execute_result"
    }
   ],
   "source": [
    "# partition 2개일 때\n",
    "sample_rdd2 = spark.parallelize([1,2,3,4],2)\n",
    "sample_rdd2.glom().collect()"
   ]
  },
  {
   "cell_type": "code",
   "execution_count": 8,
   "id": "f83a6c66",
   "metadata": {},
   "outputs": [
    {
     "data": {
      "text/plain": [
       "18"
      ]
     },
     "execution_count": 8,
     "metadata": {},
     "output_type": "execute_result"
    }
   ],
   "source": [
    "sample_rdd2.reduce(lambda x,y:(x*2)+y)"
   ]
  },
  {
   "cell_type": "code",
   "execution_count": 9,
   "id": "ab7ecba9",
   "metadata": {},
   "outputs": [
    {
     "data": {
      "text/plain": [
       "[[1], [2], [3, 4]]"
      ]
     },
     "execution_count": 9,
     "metadata": {},
     "output_type": "execute_result"
    }
   ],
   "source": [
    "# partition 3개일 때 \n",
    "sample_rdd3 = spark.parallelize([1,2,3,4],3)\n",
    "sample_rdd3.glom().collect()"
   ]
  },
  {
   "cell_type": "code",
   "execution_count": 10,
   "id": "42a4f8dc",
   "metadata": {},
   "outputs": [
    {
     "data": {
      "text/plain": [
       "18"
      ]
     },
     "execution_count": 10,
     "metadata": {},
     "output_type": "execute_result"
    }
   ],
   "source": [
    "sample_rdd3.reduce(lambda x,y:(x*2)+y)"
   ]
  },
  {
   "cell_type": "markdown",
   "id": "92f17412",
   "metadata": {},
   "source": [
    "# fold(ZeroValue, func)\n",
    "- reduce()는 단순한 RDD 축약 연산\n",
    "- fold()는 오류없는 축약 연산 가능\n",
    "- 빈 RDD 처리 가능"
   ]
  },
  {
   "cell_type": "code",
   "execution_count": 11,
   "id": "c27c9db5",
   "metadata": {},
   "outputs": [
    {
     "data": {
      "text/plain": [
       "24"
      ]
     },
     "execution_count": 11,
     "metadata": {},
     "output_type": "execute_result"
    }
   ],
   "source": [
    "sample_rdd4 = spark.parallelize([2,3,4],4)\n",
    "sample_rdd4.reduce(lambda x,y:x*y)"
   ]
  },
  {
   "cell_type": "code",
   "execution_count": 12,
   "id": "428f39ef",
   "metadata": {},
   "outputs": [
    {
     "data": {
      "text/plain": [
       "24"
      ]
     },
     "execution_count": 12,
     "metadata": {},
     "output_type": "execute_result"
    }
   ],
   "source": [
    "sample_rdd4.fold(1,lambda x,y:x*y)"
   ]
  },
  {
   "cell_type": "code",
   "execution_count": 13,
   "id": "45844778",
   "metadata": {},
   "outputs": [
    {
     "name": "stdout",
     "output_type": "stream",
     "text": [
      "Reduce Error : Can not reduce() empty RDD\n"
     ]
    }
   ],
   "source": [
    "# 빈 RDD 예외처리\n",
    "sample_rdd5 = spark.parallelize([])\n",
    "try:\n",
    "    sample_rdd5.reduce(lambda x,y:x+y)\n",
    "except ValueError as e:\n",
    "    print(f\"Reduce Error : {e}\")"
   ]
  },
  {
   "cell_type": "code",
   "execution_count": 14,
   "id": "9bed45d9",
   "metadata": {},
   "outputs": [
    {
     "data": {
      "text/plain": [
       "0"
      ]
     },
     "execution_count": 14,
     "metadata": {},
     "output_type": "execute_result"
    }
   ],
   "source": [
    "sample_rdd5.fold(0, lambda a,b:a+b)"
   ]
  },
  {
   "cell_type": "code",
   "execution_count": 15,
   "id": "58edb7fd",
   "metadata": {},
   "outputs": [
    {
     "data": {
      "text/plain": [
       "[1, 'a', 2]"
      ]
     },
     "execution_count": 15,
     "metadata": {},
     "output_type": "execute_result"
    }
   ],
   "source": [
    "sample_rdd6 = spark.parallelize([1,\"a\",2])\n",
    "sample_rdd6.collect()"
   ]
  },
  {
   "cell_type": "code",
   "execution_count": 20,
   "id": "7edbe817",
   "metadata": {},
   "outputs": [
    {
     "data": {
      "text/plain": [
       "'1a2'"
      ]
     },
     "execution_count": 20,
     "metadata": {},
     "output_type": "execute_result"
    }
   ],
   "source": [
    "sample_rdd6.reduce(lambda x,y:str(x)+str(y))"
   ]
  },
  {
   "cell_type": "code",
   "execution_count": 16,
   "id": "0e2079e1",
   "metadata": {},
   "outputs": [
    {
     "data": {
      "text/plain": [
       "'1a2'"
      ]
     },
     "execution_count": 16,
     "metadata": {},
     "output_type": "execute_result"
    }
   ],
   "source": [
    "sample_rdd6.fold(\"\",lambda x,y:str(x)+str(y))"
   ]
  },
  {
   "cell_type": "markdown",
   "id": "69c1a0c5",
   "metadata": {},
   "source": [
    "# groupBy, aggregate\n",
    "- RDD.aggregate(zeroValue, func1_partition, func2_combine)"
   ]
  },
  {
   "cell_type": "code",
   "execution_count": 26,
   "id": "21405540",
   "metadata": {},
   "outputs": [
    {
     "data": {
      "text/plain": [
       "[1, 2, 1, 1, 3, 5, 5, 8]"
      ]
     },
     "execution_count": 26,
     "metadata": {},
     "output_type": "execute_result"
    }
   ],
   "source": [
    "sample_rdd7 = spark.parallelize([1,2,1,1,3,5,5,8])\n",
    "sample_rdd7.collect()"
   ]
  },
  {
   "cell_type": "code",
   "execution_count": 29,
   "id": "78939905",
   "metadata": {},
   "outputs": [],
   "source": [
    "result = sample_rdd7.groupBy(lambda x:x%2).collect()"
   ]
  },
  {
   "cell_type": "code",
   "execution_count": 33,
   "id": "435dee2f",
   "metadata": {},
   "outputs": [
    {
     "data": {
      "text/plain": [
       "[(0, [2, 8]), (1, [1, 1, 1, 3, 5, 5])]"
      ]
     },
     "execution_count": 33,
     "metadata": {},
     "output_type": "execute_result"
    }
   ],
   "source": [
    "sorted([(x,sorted(y)) for (x,y) in result])"
   ]
  },
  {
   "cell_type": "code",
   "execution_count": 34,
   "id": "ac5cad82",
   "metadata": {},
   "outputs": [
    {
     "data": {
      "text/plain": [
       "(10, 4)"
      ]
     },
     "execution_count": 34,
     "metadata": {},
     "output_type": "execute_result"
    }
   ],
   "source": [
    "func1 = lambda x,y:(x[0]+y, x[1]+1)\n",
    "func2 = lambda x,y:(x[0] + y[0], x[1]+y[1])\n",
    "sample_rdd8 = spark.parallelize([1,2,3,4], 2)\n",
    "sample_rdd8.aggregate((0,0), func1, func2)"
   ]
  },
  {
   "cell_type": "code",
   "execution_count": 35,
   "id": "ce39e11a",
   "metadata": {},
   "outputs": [
    {
     "data": {
      "text/plain": [
       "[[1, 2], [3, 4]]"
      ]
     },
     "execution_count": 35,
     "metadata": {},
     "output_type": "execute_result"
    }
   ],
   "source": [
    "sample_rdd8.glom().collect()"
   ]
  },
  {
   "cell_type": "markdown",
   "id": "32c53e8f",
   "metadata": {},
   "source": [
    "# reduceByKey()가 groupByKey()보다 빠름"
   ]
  },
  {
   "cell_type": "code",
   "execution_count": 36,
   "id": "b567300c",
   "metadata": {},
   "outputs": [],
   "source": [
    "sample_rdd9 = spark.parallelize(\n",
    "[\n",
    "    (\"짜장면\",15),\n",
    "    (\"짬뽕\", 10),\n",
    "    (\"짜장면\", 5),\n",
    "    (\"짬뽕\",20)\n",
    "])"
   ]
  },
  {
   "cell_type": "code",
   "execution_count": 37,
   "id": "b6325ef6",
   "metadata": {},
   "outputs": [
    {
     "data": {
      "text/plain": [
       "PythonRDD[46] at RDD at PythonRDD.scala:53"
      ]
     },
     "execution_count": 37,
     "metadata": {},
     "output_type": "execute_result"
    }
   ],
   "source": [
    "sample_rdd9_g = sample_rdd9.groupByKey()\n",
    "sample_rdd9_g"
   ]
  },
  {
   "cell_type": "code",
   "execution_count": 38,
   "id": "501500cc",
   "metadata": {},
   "outputs": [
    {
     "data": {
      "text/plain": [
       "[('짜장면', 2), ('짬뽕', 2)]"
      ]
     },
     "execution_count": 38,
     "metadata": {},
     "output_type": "execute_result"
    }
   ],
   "source": [
    "sample_rdd9_g.mapValues(len).collect()"
   ]
  },
  {
   "cell_type": "code",
   "execution_count": 39,
   "id": "1cae73c9",
   "metadata": {},
   "outputs": [
    {
     "data": {
      "text/plain": [
       "[('짜장면', [15, 5]), ('짬뽕', [10, 20])]"
      ]
     },
     "execution_count": 39,
     "metadata": {},
     "output_type": "execute_result"
    }
   ],
   "source": [
    "sample_rdd9_g.mapValues(list).collect()"
   ]
  },
  {
   "cell_type": "code",
   "execution_count": 40,
   "id": "2c8a368f",
   "metadata": {},
   "outputs": [
    {
     "data": {
      "text/plain": [
       "[('짜장면', 10.0), ('짬뽕', 15.0)]"
      ]
     },
     "execution_count": 40,
     "metadata": {},
     "output_type": "execute_result"
    }
   ],
   "source": [
    "sample_rdd9_g.mapValues(lambda x:sum(x) / len(x)).collect()"
   ]
  },
  {
   "cell_type": "code",
   "execution_count": 41,
   "id": "d4c0c20c",
   "metadata": {},
   "outputs": [
    {
     "data": {
      "text/plain": [
       "[('짜장면', 20), ('짬뽕', 30)]"
      ]
     },
     "execution_count": 41,
     "metadata": {},
     "output_type": "execute_result"
    }
   ],
   "source": [
    "sample_rdd9.reduceByKey(add).collect()"
   ]
  },
  {
   "cell_type": "markdown",
   "id": "e844b4ae",
   "metadata": {},
   "source": [
    "# CountByKey() : action\n",
    "# key() : transformation"
   ]
  },
  {
   "cell_type": "code",
   "execution_count": 42,
   "id": "c03f2cfd",
   "metadata": {},
   "outputs": [
    {
     "data": {
      "text/plain": [
       "defaultdict(int, {'짜장면': 2, '짬뽕': 2})"
      ]
     },
     "execution_count": 42,
     "metadata": {},
     "output_type": "execute_result"
    }
   ],
   "source": [
    "sample_rdd9.countByKey()"
   ]
  },
  {
   "cell_type": "code",
   "execution_count": 43,
   "id": "30294f00",
   "metadata": {},
   "outputs": [
    {
     "data": {
      "text/plain": [
       "PythonRDD[56] at RDD at PythonRDD.scala:53"
      ]
     },
     "execution_count": 43,
     "metadata": {},
     "output_type": "execute_result"
    }
   ],
   "source": [
    "sample_rdd9.keys()"
   ]
  },
  {
   "cell_type": "code",
   "execution_count": 44,
   "id": "fecfaaed",
   "metadata": {},
   "outputs": [
    {
     "data": {
      "text/plain": [
       "['짜장면', '짬뽕', '짜장면', '짬뽕']"
      ]
     },
     "execution_count": 44,
     "metadata": {},
     "output_type": "execute_result"
    }
   ],
   "source": [
    "sample_rdd9.keys().collect()"
   ]
  },
  {
   "cell_type": "markdown",
   "id": "5d3bbc2f",
   "metadata": {},
   "source": [
    "# join()\n",
    "- inner join이 default, 양쪽에 존재하는 key의 집합\n",
    "- outer join은 left or right"
   ]
  },
  {
   "cell_type": "code",
   "execution_count": 48,
   "id": "fac135e0",
   "metadata": {},
   "outputs": [
    {
     "data": {
      "text/plain": [
       "[('b', (20, 20)), ('b', (20, 10)), ('a', (10, 20))]"
      ]
     },
     "execution_count": 48,
     "metadata": {},
     "output_type": "execute_result"
    }
   ],
   "source": [
    "join_rdd1 = spark.parallelize([\n",
    "    (\"a\", 10),\n",
    "    (\"b\", 20),\n",
    "    (\"c\", 30)\n",
    "])\n",
    "\n",
    "join_rdd2 = spark.parallelize([\n",
    "    (\"a\", 20),\n",
    "    (\"b\", 20),\n",
    "    (\"b\", 10),\n",
    "    (\"d\",5)\n",
    "])\n",
    "\n",
    "join_rdd1.join(join_rdd2).collect()"
   ]
  },
  {
   "cell_type": "code",
   "execution_count": 49,
   "id": "c5dd7003",
   "metadata": {},
   "outputs": [
    {
     "data": {
      "text/plain": [
       "[('b', (20, 20)), ('b', (20, 10)), ('c', (30, None)), ('a', (10, 20))]"
      ]
     },
     "execution_count": 49,
     "metadata": {},
     "output_type": "execute_result"
    }
   ],
   "source": [
    "join_rdd1.leftOuterJoin(join_rdd2).collect()"
   ]
  },
  {
   "cell_type": "code",
   "execution_count": 50,
   "id": "0d5b8bd6",
   "metadata": {},
   "outputs": [
    {
     "data": {
      "text/plain": [
       "[('b', (20, 20)), ('b', (20, 10)), ('d', (None, 5)), ('a', (10, 20))]"
      ]
     },
     "execution_count": 50,
     "metadata": {},
     "output_type": "execute_result"
    }
   ],
   "source": [
    "join_rdd1.rightOuterJoin(join_rdd2).collect()"
   ]
  },
  {
   "cell_type": "code",
   "execution_count": 51,
   "id": "45ae8db1",
   "metadata": {},
   "outputs": [],
   "source": [
    "spark.stop()"
   ]
  }
 ],
 "metadata": {
  "kernelspec": {
   "display_name": "Python (spark_start)",
   "language": "python",
   "name": "spark_start"
  },
  "language_info": {
   "codemirror_mode": {
    "name": "ipython",
    "version": 3
   },
   "file_extension": ".py",
   "mimetype": "text/x-python",
   "name": "python",
   "nbconvert_exporter": "python",
   "pygments_lexer": "ipython3",
   "version": "3.8.20"
  }
 },
 "nbformat": 4,
 "nbformat_minor": 5
}

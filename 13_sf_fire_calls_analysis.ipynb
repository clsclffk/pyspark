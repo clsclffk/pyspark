{
 "cells": [
  {
   "cell_type": "code",
   "execution_count": 1,
   "id": "7b532f2e",
   "metadata": {},
   "outputs": [
    {
     "name": "stderr",
     "output_type": "stream",
     "text": [
      "24/12/10 10:01:05 WARN NativeCodeLoader: Unable to load native-hadoop library for your platform... using builtin-java classes where applicable\n",
      "Using Spark's default log4j profile: org/apache/spark/log4j-defaults.properties\n",
      "Setting default log level to \"WARN\".\n",
      "To adjust logging level use sc.setLogLevel(newLevel). For SparkR, use setLogLevel(newLevel).\n"
     ]
    }
   ],
   "source": [
    "from pyspark.sql import SparkSession\n",
    "\n",
    "spark = SparkSession.builder.appName('fireCallApp').getOrCreate()"
   ]
  },
  {
   "cell_type": "markdown",
   "id": "d3516ae5",
   "metadata": {},
   "source": [
    "## 샌프란시스코 소방서 호출 데이터셋\n",
    "1. CallNumber : 호출 번호\n",
    "2. UnitID : 응답한 소방서 장비의 ID\n",
    "3. IncidentNumber : 사건 번호\n",
    "4. CallType : 호출 유형\n",
    "5. CallFinalDisposition : 호출 처리 결과\n",
    "6. Address\n",
    "7. City \n",
    "8. Zipcode\n",
    "9. Battalion : 소방 배타리온\n",
    "10. StationArea : 해당 호출을 처리한 소방서 지역\n",
    "11. Box : 사건이 발생한 특정 구역을 나타내는 코드\n",
    "12. OriginalPriority : 사건 발생 당시 부여된 우선순위\n",
    "13. Priority : 사건 처리의 긴급도나 중요도\n",
    "14. FinalPriority : 사건이 처리된 후 결정된 우선순위\n",
    "15. ALSUnit : 고급 생명 지원(Advanced Life Support) 유닛의 여부\n",
    "16. CallTypeGroup \n",
    "17. NumAlarms : 발령된 경고 횟수\n",
    "18. UnitType : 응답한 유닛의 유형\n",
    "19. UnitSequenceInCallDispatch : 호출 배정 시 유닛의 순서\n",
    "20. FirePreventionDistrict : 화재 예방 구역\n",
    "21. SupervisorDistrict\n",
    "22. Neighborhood \n",
    "23. Location\n",
    "24. RowID : 각 행 고유 식별자\n",
    "25. ResponseDelayedinMins : 응답 지연 시간\n",
    "26. IncidentDate\n",
    "27. OnWatchDate : 사건을 담당하는 직원이 해당 사건을 관리하는 날짜\n",
    "28. AvailableDtTS : 유닛이 해당 사건에 대해 대응할 수 있는 시간"
   ]
  },
  {
   "cell_type": "code",
   "execution_count": 2,
   "id": "bfb67514",
   "metadata": {},
   "outputs": [],
   "source": [
    "from pyspark.sql.types import *\n",
    "\n",
    "schema = StructType([\n",
    "    StructField(\"CallNumber\", IntegerType(), True),\n",
    "    StructField(\"UnitID\", StringType(), True),\n",
    "    StructField(\"IncidentNumber\", IntegerType(), True),\n",
    "    StructField(\"CallType\", StringType(), True),\n",
    "    StructField(\"CallDate\", StringType(), True),  \n",
    "    StructField(\"WatchDate\", StringType(), True), \n",
    "    StructField(\"CallFinalDisposition\", StringType(), True),\n",
    "    StructField(\"AvailableDtTm\", StringType(), True),\n",
    "    StructField(\"Address\", StringType(), True),\n",
    "    StructField(\"City\", StringType(), True),\n",
    "    StructField(\"Zipcode\", IntegerType(), True),\n",
    "    StructField(\"Battalion\", StringType(), True),\n",
    "    StructField(\"StationArea\", StringType(), True),\n",
    "    StructField(\"Box\", StringType(), True),\n",
    "    StructField(\"OriginalPriority\", StringType(), True),\n",
    "    StructField(\"Priority\", StringType(), True),\n",
    "    StructField(\"FinalPriority\", IntegerType(), True),\n",
    "    StructField(\"ALSUnit\", BooleanType(), True),\n",
    "    StructField(\"CallTypeGroup\", StringType(), True),\n",
    "    StructField(\"NumAlarms\", IntegerType(), True),\n",
    "    StructField(\"UnitType\", StringType(), True),\n",
    "    StructField(\"UnitSequenceInCallDispatch\", IntegerType(), True),\n",
    "    StructField(\"FirePreventionDistrict\", StringType(), True),\n",
    "    StructField(\"SupervisorDistrict\", StringType(), True),\n",
    "    StructField(\"Neighborhood\", StringType(), True),\n",
    "    StructField(\"Location\", StringType(), True),\n",
    "    StructField(\"RowID\", StringType(), True),\n",
    "    StructField(\"Delay\", FloatType(), True)\n",
    "])"
   ]
  },
  {
   "cell_type": "code",
   "execution_count": 3,
   "id": "a78219a1",
   "metadata": {
    "scrolled": true
   },
   "outputs": [
    {
     "name": "stderr",
     "output_type": "stream",
     "text": [
      "24/12/10 10:01:15 WARN package: Truncated the string representation of a plan since it was too large. This behavior can be adjusted by setting 'spark.sql.debug.maxToStringFields'.\n",
      "[Stage 0:>                                                          (0 + 1) / 1]\r"
     ]
    },
    {
     "name": "stdout",
     "output_type": "stream",
     "text": [
      "+----------+------+--------------+----------------+----------+----------+--------------------+--------------------+--------------------+----+-------+---------+-----------+----+----------------+--------+-------------+-------+-------------+---------+--------+--------------------------+----------------------+------------------+--------------------+--------------------+-------------+---------+\n",
      "|CallNumber|UnitID|IncidentNumber|        CallType|  CallDate| WatchDate|CallFinalDisposition|       AvailableDtTm|             Address|City|Zipcode|Battalion|StationArea| Box|OriginalPriority|Priority|FinalPriority|ALSUnit|CallTypeGroup|NumAlarms|UnitType|UnitSequenceInCallDispatch|FirePreventionDistrict|SupervisorDistrict|        Neighborhood|            Location|        RowID|    Delay|\n",
      "+----------+------+--------------+----------------+----------+----------+--------------------+--------------------+--------------------+----+-------+---------+-----------+----+----------------+--------+-------------+-------+-------------+---------+--------+--------------------------+----------------------+------------------+--------------------+--------------------+-------------+---------+\n",
      "|  20110016|   T13|       2003235|  Structure Fire|01/11/2002|01/10/2002|               Other|01/11/2002 01:51:...|2000 Block of CAL...|  SF|  94109|      B04|         38|3362|               3|       3|            3|  false|         null|        1|   TRUCK|                         2|                     4|                 5|     Pacific Heights|(37.7895840679362...|020110016-T13|     2.95|\n",
      "|  20110022|   M17|       2003241|Medical Incident|01/11/2002|01/10/2002|               Other|01/11/2002 03:01:...|0 Block of SILVER...|  SF|  94124|      B10|         42|6495|               3|       3|            3|   true|         null|        1|   MEDIC|                         1|                    10|                10|Bayview Hunters P...|(37.7337623673897...|020110022-M17|      4.7|\n",
      "|  20110023|   M41|       2003242|Medical Incident|01/11/2002|01/10/2002|               Other|01/11/2002 02:39:...|MARKET ST/MCALLIS...|  SF|  94102|      B03|         01|1455|               3|       3|            3|   true|         null|        1|   MEDIC|                         2|                     3|                 6|          Tenderloin|(37.7811772186856...|020110023-M41|2.4333334|\n",
      "|  20110032|   E11|       2003250|    Vehicle Fire|01/11/2002|01/10/2002|               Other|01/11/2002 04:16:...|APPLETON AV/MISSI...|  SF|  94110|      B06|         32|5626|               3|       3|            3|  false|         null|        1|  ENGINE|                         1|                     6|                 9|      Bernal Heights|(37.7388432849018...|020110032-E11|      1.5|\n",
      "|  20110043|   B04|       2003259|          Alarms|01/11/2002|01/10/2002|               Other|01/11/2002 06:01:...|1400 Block of SUT...|  SF|  94109|      B04|         03|3223|               3|       3|            3|  false|         null|        1|   CHIEF|                         2|                     4|                 2|    Western Addition|(37.7872890372638...|020110043-B04|3.4833333|\n",
      "+----------+------+--------------+----------------+----------+----------+--------------------+--------------------+--------------------+----+-------+---------+-----------+----+----------------+--------+-------------+-------+-------------+---------+--------+--------------------------+----------------------+------------------+--------------------+--------------------+-------------+---------+\n",
      "only showing top 5 rows\n",
      "\n"
     ]
    },
    {
     "name": "stderr",
     "output_type": "stream",
     "text": [
      "\r",
      "                                                                                \r"
     ]
    }
   ],
   "source": [
    "df = spark.read.csv('./data/sf-fire-calls.csv', header=True, schema=schema)\n",
    "df.show(5)"
   ]
  },
  {
   "cell_type": "code",
   "execution_count": 4,
   "id": "0f555c79",
   "metadata": {
    "scrolled": true
   },
   "outputs": [
    {
     "name": "stdout",
     "output_type": "stream",
     "text": [
      "root\n",
      " |-- CallNumber: integer (nullable = true)\n",
      " |-- UnitID: string (nullable = true)\n",
      " |-- IncidentNumber: integer (nullable = true)\n",
      " |-- CallType: string (nullable = true)\n",
      " |-- CallDate: string (nullable = true)\n",
      " |-- WatchDate: string (nullable = true)\n",
      " |-- CallFinalDisposition: string (nullable = true)\n",
      " |-- AvailableDtTm: string (nullable = true)\n",
      " |-- Address: string (nullable = true)\n",
      " |-- City: string (nullable = true)\n",
      " |-- Zipcode: integer (nullable = true)\n",
      " |-- Battalion: string (nullable = true)\n",
      " |-- StationArea: string (nullable = true)\n",
      " |-- Box: string (nullable = true)\n",
      " |-- OriginalPriority: string (nullable = true)\n",
      " |-- Priority: string (nullable = true)\n",
      " |-- FinalPriority: integer (nullable = true)\n",
      " |-- ALSUnit: boolean (nullable = true)\n",
      " |-- CallTypeGroup: string (nullable = true)\n",
      " |-- NumAlarms: integer (nullable = true)\n",
      " |-- UnitType: string (nullable = true)\n",
      " |-- UnitSequenceInCallDispatch: integer (nullable = true)\n",
      " |-- FirePreventionDistrict: string (nullable = true)\n",
      " |-- SupervisorDistrict: string (nullable = true)\n",
      " |-- Neighborhood: string (nullable = true)\n",
      " |-- Location: string (nullable = true)\n",
      " |-- RowID: string (nullable = true)\n",
      " |-- Delay: float (nullable = true)\n",
      "\n"
     ]
    }
   ],
   "source": [
    "df.printSchema()"
   ]
  },
  {
   "cell_type": "code",
   "execution_count": 6,
   "id": "1b3c25c1",
   "metadata": {},
   "outputs": [
    {
     "name": "stdout",
     "output_type": "stream",
     "text": [
      "+---------------------+\n",
      "|ResponseDelayedinMins|\n",
      "+---------------------+\n",
      "|5.35                 |\n",
      "|6.25                 |\n",
      "|5.2                  |\n",
      "|5.6                  |\n",
      "|7.25                 |\n",
      "+---------------------+\n",
      "only showing top 5 rows\n",
      "\n"
     ]
    }
   ],
   "source": [
    "# 열 이름 변경\n",
    "from pyspark.sql import functions as F\n",
    "\n",
    "df = df.withColumnRenamed('Delay', 'ResponseDelayedinMins')\n",
    "df.select('ResponseDelayedinMins')\\\n",
    "    .where(F.col('ResponseDelayedinMins') > 5)\\\n",
    "    .show(5, False)"
   ]
  },
  {
   "cell_type": "code",
   "execution_count": 7,
   "id": "e9eca640",
   "metadata": {},
   "outputs": [
    {
     "name": "stdout",
     "output_type": "stream",
     "text": [
      "+----------+----------+----------------------+\n",
      "|CallDate  |WatchDate |AvailableDtTm         |\n",
      "+----------+----------+----------------------+\n",
      "|01/11/2002|01/10/2002|01/11/2002 01:51:44 AM|\n",
      "|01/11/2002|01/10/2002|01/11/2002 03:01:18 AM|\n",
      "|01/11/2002|01/10/2002|01/11/2002 02:39:50 AM|\n",
      "|01/11/2002|01/10/2002|01/11/2002 04:16:46 AM|\n",
      "|01/11/2002|01/10/2002|01/11/2002 06:01:58 AM|\n",
      "+----------+----------+----------------------+\n",
      "only showing top 5 rows\n",
      "\n"
     ]
    }
   ],
   "source": [
    "df.select('CallDate','WatchDate','AvailableDtTm').show(5, False)"
   ]
  },
  {
   "cell_type": "code",
   "execution_count": 8,
   "id": "176b7f6e",
   "metadata": {},
   "outputs": [
    {
     "name": "stdout",
     "output_type": "stream",
     "text": [
      "+-------------------+-------------------+-------------------+\n",
      "|IncidentDate       |OnWatchDate        |AvailableDtTS      |\n",
      "+-------------------+-------------------+-------------------+\n",
      "|2002-01-11 00:00:00|2002-01-10 00:00:00|2002-01-11 01:51:44|\n",
      "|2002-01-11 00:00:00|2002-01-10 00:00:00|2002-01-11 03:01:18|\n",
      "|2002-01-11 00:00:00|2002-01-10 00:00:00|2002-01-11 02:39:50|\n",
      "|2002-01-11 00:00:00|2002-01-10 00:00:00|2002-01-11 04:16:46|\n",
      "|2002-01-11 00:00:00|2002-01-10 00:00:00|2002-01-11 06:01:58|\n",
      "+-------------------+-------------------+-------------------+\n",
      "only showing top 5 rows\n",
      "\n"
     ]
    }
   ],
   "source": [
    "# 데이터 타입 변경\n",
    "df = df.withColumn('IncidentDate', F.to_timestamp(F.col('CallDate'), 'MM/dd/yyyy'))\\\n",
    "    .drop('CallDate')\\\n",
    "    .withColumn('OnWatchDate', F.to_timestamp(F.col('WatchDate'), 'MM/dd/yyyy'))\\\n",
    "    .drop('WatchDate')\\\n",
    "    .withColumn('AvailableDtTS', F.to_timestamp(F.col('AvailableDtTm'),'MM/dd/yyyy hh:mm:ss a'))\\\n",
    "    .drop('AvailableDtTm')\n",
    "df.select('IncidentDate','OnWatchDate','AvailableDtTS').show(5, False)"
   ]
  },
  {
   "cell_type": "markdown",
   "id": "d7c0359c",
   "metadata": {},
   "source": [
    "## CallType"
   ]
  },
  {
   "cell_type": "code",
   "execution_count": 9,
   "id": "e7080c4d",
   "metadata": {},
   "outputs": [
    {
     "name": "stderr",
     "output_type": "stream",
     "text": [
      "[Stage 5:========================================>              (149 + 3) / 200]\r"
     ]
    },
    {
     "name": "stdout",
     "output_type": "stream",
     "text": [
      "+-------------------------------+------+\n",
      "|CallType                       |count |\n",
      "+-------------------------------+------+\n",
      "|Medical Incident               |113794|\n",
      "|Structure Fire                 |23319 |\n",
      "|Alarms                         |19406 |\n",
      "|Traffic Collision              |7013  |\n",
      "|Citizen Assist / Service Call  |2524  |\n",
      "|Other                          |2166  |\n",
      "|Outside Fire                   |2094  |\n",
      "|Vehicle Fire                   |854   |\n",
      "|Gas Leak (Natural and LP Gases)|764   |\n",
      "|Water Rescue                   |755   |\n",
      "+-------------------------------+------+\n",
      "only showing top 10 rows\n",
      "\n"
     ]
    },
    {
     "name": "stderr",
     "output_type": "stream",
     "text": [
      "\r",
      "[Stage 5:=================================================>     (181 + 2) / 200]\r",
      "\r",
      "                                                                                \r"
     ]
    }
   ],
   "source": [
    "# 가장 흔한 CallType\n",
    "df.select('CallType').where(F.col('CallType').isNotNull()).groupBy('CallType')\\\n",
    "    .count().orderBy('count', ascending=False).show(10, False)"
   ]
  },
  {
   "cell_type": "code",
   "execution_count": 11,
   "id": "0b59b219",
   "metadata": {},
   "outputs": [
    {
     "name": "stderr",
     "output_type": "stream",
     "text": [
      "[Stage 7:===============================================>       (174 + 2) / 200]\r"
     ]
    },
    {
     "name": "stdout",
     "output_type": "stream",
     "text": [
      "+-----------------+\n",
      "|DistinctCallTypes|\n",
      "+-----------------+\n",
      "|               30|\n",
      "+-----------------+\n",
      "\n"
     ]
    },
    {
     "name": "stderr",
     "output_type": "stream",
     "text": [
      "\r",
      "                                                                                \r"
     ]
    }
   ],
   "source": [
    "# CallType 종류수\n",
    "df.select('CallType') \\\n",
    "    .where(F.col('CallType').isNotNull()) \\\n",
    "    .agg(F.countDistinct('CallType').alias('DistinctCallTypes')) \\\n",
    "    .select('DistinctCallTypes') \\\n",
    "    .show()"
   ]
  },
  {
   "cell_type": "code",
   "execution_count": 12,
   "id": "1d7ee1d7",
   "metadata": {},
   "outputs": [
    {
     "name": "stdout",
     "output_type": "stream",
     "text": [
      "+-----------------------------------+\n",
      "|CallType                           |\n",
      "+-----------------------------------+\n",
      "|Elevator / Escalator Rescue        |\n",
      "|Marine Fire                        |\n",
      "|Aircraft Emergency                 |\n",
      "|Confined Space / Structure Collapse|\n",
      "|Administrative                     |\n",
      "|Alarms                             |\n",
      "|Odor (Strange / Unknown)           |\n",
      "|Citizen Assist / Service Call      |\n",
      "|HazMat                             |\n",
      "|Watercraft in Distress             |\n",
      "+-----------------------------------+\n",
      "only showing top 10 rows\n",
      "\n"
     ]
    }
   ],
   "source": [
    "# CallType 종류\n",
    "df.select('CallType')\\\n",
    "    .where(F.col('CallType').isNotNull())\\\n",
    "    .distinct().show(10, truncate=False)"
   ]
  },
  {
   "cell_type": "code",
   "execution_count": 15,
   "id": "dbe20350",
   "metadata": {},
   "outputs": [
    {
     "name": "stdout",
     "output_type": "stream",
     "text": [
      "+--------------+-------------------+--------------+\n",
      "|IncidentNumber|AvailableDtTS      |CallType      |\n",
      "+--------------+-------------------+--------------+\n",
      "|2003235       |2002-01-11 01:51:44|Structure Fire|\n",
      "|2003250       |2002-01-11 04:16:46|Vehicle Fire  |\n",
      "|2003259       |2002-01-11 06:01:58|Alarms        |\n",
      "|2003279       |2002-01-11 08:03:26|Structure Fire|\n",
      "|2003301       |2002-01-11 09:46:44|Alarms        |\n",
      "+--------------+-------------------+--------------+\n",
      "only showing top 5 rows\n",
      "\n"
     ]
    }
   ],
   "source": [
    "# 'Medical Incident'가 아닌 CallType\n",
    "\n",
    "df.select('IncidentNumber','AvailableDtTS','CallType')\\\n",
    "    .where(F.col('CallType') != 'Medical Incident').show(5, truncate=False)"
   ]
  },
  {
   "cell_type": "code",
   "execution_count": 21,
   "id": "6248e2c5",
   "metadata": {
    "scrolled": true
   },
   "outputs": [
    {
     "name": "stderr",
     "output_type": "stream",
     "text": [
      "[Stage 21:===================================================>  (192 + 2) / 200]\r"
     ]
    },
    {
     "name": "stdout",
     "output_type": "stream",
     "text": [
      "+-----------------------------------+-------------------------+\n",
      "|CallType                           |avg_ResponseDelayedinMins|\n",
      "+-----------------------------------+-------------------------+\n",
      "|Mutual Aid / Assist Outside Agency |38.41666640175713        |\n",
      "|Assist Police                      |26.981903961726598       |\n",
      "|Train / Rail Incident              |16.452046751976013       |\n",
      "|Administrative                     |12.261111179987589       |\n",
      "|HazMat                             |7.527016133069992        |\n",
      "|Marine Fire                        |6.928571377481733        |\n",
      "|Confined Space / Structure Collapse|6.915384567700899        |\n",
      "|Watercraft in Distress             |6.886904835700989        |\n",
      "|Suspicious Package                 |6.576666704813639        |\n",
      "|High Angle Rescue                  |6.048958357423544        |\n",
      "|Water Rescue                       |5.507748341362998        |\n",
      "|Other                              |5.505155435636888        |\n",
      "|Fuel Spill                         |5.492227988539582        |\n",
      "|Citizen Assist / Service Call      |5.47334257750617         |\n",
      "|Electrical Hazard                  |5.178112054390532        |\n",
      "|Industrial Accidents               |5.014716319581296        |\n",
      "|Oil Spill                          |4.977777770587376        |\n",
      "|Odor (Strange / Unknown)           |4.9479591785645          |\n",
      "|Gas Leak (Natural and LP Gases)    |4.58339878292608         |\n",
      "|Smoke Investigation (Outside)      |4.466069909465283        |\n",
      "+-----------------------------------+-------------------------+\n",
      "only showing top 20 rows\n",
      "\n"
     ]
    },
    {
     "name": "stderr",
     "output_type": "stream",
     "text": [
      "\r",
      "                                                                                \r"
     ]
    }
   ],
   "source": [
    "# CallType별 지연시간\n",
    "df.filter(F.col('ResponseDelayedinMins').isNotNull())\\\n",
    "    .groupBy('CallType')\\\n",
    "    .agg(F.avg('ResponseDelayedinMins').alias('avg_ResponseDelayedinMins'))\\\n",
    "    .orderBy('avg_ResponseDelayedinMins', ascending=False)\\\n",
    "    .show(truncate=False)"
   ]
  },
  {
   "cell_type": "markdown",
   "id": "2133d6cd",
   "metadata": {},
   "source": [
    "## IncidentDate"
   ]
  },
  {
   "cell_type": "code",
   "execution_count": 12,
   "id": "e8a85c92",
   "metadata": {},
   "outputs": [
    {
     "name": "stderr",
     "output_type": "stream",
     "text": [
      "[Stage 17:===================================>                  (133 + 2) / 200]\r"
     ]
    },
    {
     "name": "stdout",
     "output_type": "stream",
     "text": [
      "+------------------+\n",
      "|year(IncidentDate)|\n",
      "+------------------+\n",
      "|              2000|\n",
      "|              2001|\n",
      "|              2002|\n",
      "|              2003|\n",
      "|              2004|\n",
      "|              2005|\n",
      "|              2006|\n",
      "|              2007|\n",
      "|              2008|\n",
      "|              2009|\n",
      "|              2010|\n",
      "|              2011|\n",
      "|              2012|\n",
      "|              2013|\n",
      "|              2014|\n",
      "|              2015|\n",
      "|              2016|\n",
      "|              2017|\n",
      "|              2018|\n",
      "+------------------+\n",
      "\n"
     ]
    },
    {
     "name": "stderr",
     "output_type": "stream",
     "text": [
      "\r",
      "[Stage 17:==============================================>       (173 + 2) / 200]\r",
      "\r",
      "                                                                                \r"
     ]
    }
   ],
   "source": [
    "# IncidentDate 컬럼의 연도를 추출하여 고유한 연도 추출\n",
    "df.select(F.year('IncidentDate')).distinct()\\\n",
    "    .orderBy(F.year('IncidentDate')).show()"
   ]
  },
  {
   "cell_type": "markdown",
   "id": "61ce306e",
   "metadata": {},
   "source": [
    "## ResponseDelayedinMins"
   ]
  },
  {
   "cell_type": "code",
   "execution_count": 15,
   "id": "915d28a6",
   "metadata": {},
   "outputs": [
    {
     "name": "stdout",
     "output_type": "stream",
     "text": [
      "+--------------+--------------------------+--------------------------+--------------------------+\n",
      "|sum(NumAlarms)|avg(ResponseDelayedinMins)|min(ResponseDelayedinMins)|max(ResponseDelayedinMins)|\n",
      "+--------------+--------------------------+--------------------------+--------------------------+\n",
      "|        176170|         3.892364154521585|               0.016666668|                   1844.55|\n",
      "+--------------+--------------------------+--------------------------+--------------------------+\n",
      "\n"
     ]
    }
   ],
   "source": [
    "# 경보횟수 합, 응답시간 평균, 모든 신고에 대한 최소/최장 응답시간\n",
    "df.select(F.sum('NumAlarms'), F.avg('ResponseDelayedinMins'), F.min('ResponseDelayedinMins'),\n",
    "          F.max('ResponseDelayedinMins')).show()"
   ]
  },
  {
   "cell_type": "markdown",
   "id": "907f34bf",
   "metadata": {},
   "source": [
    "## City"
   ]
  },
  {
   "cell_type": "code",
   "execution_count": 25,
   "id": "bb35b0f2",
   "metadata": {
    "scrolled": true
   },
   "outputs": [
    {
     "name": "stderr",
     "output_type": "stream",
     "text": [
      "\r",
      "[Stage 25:==================================>                   (126 + 2) / 200]\r",
      "\r",
      "[Stage 25:===============================================>      (177 + 2) / 200]\r"
     ]
    },
    {
     "name": "stdout",
     "output_type": "stream",
     "text": [
      "+---------------+-------------+------------------+\n",
      "|City           |CallFrequency|AvgResponse       |\n",
      "+---------------+-------------+------------------+\n",
      "|SF             |120072       |3.775843105805427 |\n",
      "|San Francisco  |51739        |4.062894208634196 |\n",
      "|SAN FRANCISCO  |1676         |4.594391408445301 |\n",
      "|TI             |486          |4.974931401235086 |\n",
      "|Presidio       |281          |4.991518377091112 |\n",
      "|PR             |257          |4.769390379538912 |\n",
      "|Treasure Isla  |228          |5.319956149709852 |\n",
      "|null           |207          |14.03888882310602 |\n",
      "|Yerba Buena    |41           |5.563008085983555 |\n",
      "|DC             |41           |5.059349624122062 |\n",
      "|SFO            |37           |4.251351350062603 |\n",
      "|Fort Mason     |36           |4.457870363361305 |\n",
      "|FM             |36           |4.030555579397413 |\n",
      "|YB             |34           |10.709803798619438|\n",
      "|HP             |31           |3.961290313351539 |\n",
      "|Hunters Point  |27           |3.952469148017742 |\n",
      "|PRESIDIO       |13           |5.343589883584243 |\n",
      "|Treasure Island|12           |5.0750000675519304|\n",
      "|OAK            |11           |3.8545454307035967|\n",
      "|TREASURE ISLAND|9            |4.631481435563829 |\n",
      "+---------------+-------------+------------------+\n",
      "only showing top 20 rows\n",
      "\n"
     ]
    },
    {
     "name": "stderr",
     "output_type": "stream",
     "text": [
      "\r",
      "                                                                                \r"
     ]
    }
   ],
   "source": [
    "# 도시별 호출빈도, 평균 응답시간\n",
    "df.groupBy('City').agg(F.count('CallNumber').alias('CallFrequency'),\n",
    "                       F.avg('ResponseDelayedinMins').alias('AvgResponse'))\\\n",
    "    .orderBy('CallFrequency', ascending=False).show(truncate=False)"
   ]
  },
  {
   "cell_type": "markdown",
   "id": "8165346c",
   "metadata": {},
   "source": [
    "## StationArea"
   ]
  },
  {
   "cell_type": "code",
   "execution_count": 45,
   "id": "d0b1b457",
   "metadata": {},
   "outputs": [],
   "source": [
    "# null값 삭제\n",
    "df = df.filter(df[\"StationArea\"].isNotNull())"
   ]
  },
  {
   "cell_type": "code",
   "execution_count": 46,
   "id": "86d3fb9b",
   "metadata": {},
   "outputs": [
    {
     "name": "stderr",
     "output_type": "stream",
     "text": [
      "\r",
      "[Stage 67:>                                                         (0 + 2) / 2]\r",
      "\r",
      "                                                                                \r"
     ]
    },
    {
     "name": "stdout",
     "output_type": "stream",
     "text": [
      "+-----------+------------------+-------------+\n",
      "|StationArea|AvgResponse       |IncidentCount|\n",
      "+-----------+------------------+-------------+\n",
      "|07         |3.7866731589128566|8723         |\n",
      "|51         |4.672758456990794 |777          |\n",
      "|15         |3.7585408146960706|3173         |\n",
      "|11         |3.69419441108856  |3755         |\n",
      "|29         |3.92335887940679  |2610         |\n",
      "|42         |4.321341404874807 |2731         |\n",
      "|34         |4.0121785537644765|2061         |\n",
      "|01         |3.8104291145308773|22434        |\n",
      "|28         |4.099372758232992 |4464         |\n",
      "|22         |3.9609293747011725|2629         |\n",
      "|A2         |3.814985384630878 |684          |\n",
      "|35         |4.40039249725103  |2845         |\n",
      "|16         |3.7531507772942168|3597         |\n",
      "|47         |4.0633333457840815|45           |\n",
      "|43         |3.796693497280957 |4224         |\n",
      "|31         |3.793202063818521 |3555         |\n",
      "|18         |3.6552792877594   |2393         |\n",
      "|27         |4.235519119217748 |244          |\n",
      "|17         |4.087047621209927 |5075         |\n",
      "|26         |4.109573108698327 |1304         |\n",
      "+-----------+------------------+-------------+\n",
      "only showing top 20 rows\n",
      "\n"
     ]
    }
   ],
   "source": [
    "# 소방서별 지연 시간, 사건 수\n",
    "\n",
    "df.groupBy('StationArea').agg(F.avg('ResponseDelayedinMins').alias('AvgResponse'),\n",
    "                             F.count('IncidentNumber').alias('IncidentCount'))\\\n",
    "                        .show(truncate=False)"
   ]
  },
  {
   "cell_type": "code",
   "execution_count": 47,
   "id": "68d9fc5d",
   "metadata": {},
   "outputs": [
    {
     "name": "stdout",
     "output_type": "stream",
     "text": [
      "+-----------+-----------------------------+-----+\n",
      "|StationArea|CallType                     |count|\n",
      "+-----------+-----------------------------+-----+\n",
      "|03         |Elevator / Escalator Rescue  |72   |\n",
      "|37         |Traffic Collision            |42   |\n",
      "|A1         |Water Rescue                 |3    |\n",
      "|39         |Citizen Assist / Service Call|58   |\n",
      "|34         |Electrical Hazard            |15   |\n",
      "|36         |Fuel Spill                   |8    |\n",
      "|38         |Assist Police                |1    |\n",
      "|42         |Odor (Strange / Unknown)     |5    |\n",
      "|13         |HazMat                       |11   |\n",
      "|02         |HazMat                       |1    |\n",
      "|05         |Alarms                       |858  |\n",
      "|15         |Outside Fire                 |21   |\n",
      "|06         |Explosion                    |2    |\n",
      "|48         |Elevator / Escalator Rescue  |1    |\n",
      "|18         |Alarms                       |141  |\n",
      "|02         |Odor (Strange / Unknown)     |9    |\n",
      "|21         |Traffic Collision            |187  |\n",
      "|10         |Vehicle Fire                 |15   |\n",
      "|15         |Electrical Hazard            |18   |\n",
      "|35         |HazMat                       |4    |\n",
      "+-----------+-----------------------------+-----+\n",
      "only showing top 20 rows\n",
      "\n"
     ]
    }
   ],
   "source": [
    "# 소방서별 CallType\n",
    "df.groupBy(\"StationArea\", \"CallType\").count().show(truncate=False)"
   ]
  },
  {
   "cell_type": "code",
   "execution_count": 48,
   "id": "c0f6d54d",
   "metadata": {},
   "outputs": [
    {
     "name": "stderr",
     "output_type": "stream",
     "text": [
      "[Stage 82:=================================================>    (182 + 2) / 200]\r"
     ]
    },
    {
     "name": "stdout",
     "output_type": "stream",
     "text": [
      "+-----------+--------------------------------------------+------------------+\n",
      "|StationArea|CallType                                    |AvgResponseTime   |\n",
      "+-----------+--------------------------------------------+------------------+\n",
      "|null       |null                                        |3.877523619094548 |\n",
      "|01         |null                                        |3.8104291145308773|\n",
      "|01         |Administrative                              |3.0               |\n",
      "|01         |Alarms                                      |3.9778763818487826|\n",
      "|01         |Assist Police                               |5.487500011920929 |\n",
      "|01         |Citizen Assist / Service Call               |5.2691840169330435|\n",
      "|01         |Confined Space / Structure Collapse         |3.0833332538604736|\n",
      "|01         |Electrical Hazard                           |7.885714156287057 |\n",
      "|01         |Elevator / Escalator Rescue                 |4.431124503353992 |\n",
      "|01         |Explosion                                   |4.79523811170033  |\n",
      "|01         |Extrication / Entrapped (Machinery, Vehicle)|3.0               |\n",
      "|01         |Fuel Spill                                  |5.0895833522081375|\n",
      "|01         |Gas Leak (Natural and LP Gases)             |4.26466667175293  |\n",
      "|01         |HazMat                                      |6.6972222328186035|\n",
      "|01         |Industrial Accidents                        |3.986666679382324 |\n",
      "|01         |Medical Incident                            |3.80925461562147  |\n",
      "|01         |Odor (Strange / Unknown)                    |6.3706896798364046|\n",
      "|01         |Other                                       |5.179012336554351 |\n",
      "|01         |Outside Fire                                |3.3193722943980974|\n",
      "|01         |Smoke Investigation (Outside)               |5.3114582896232605|\n",
      "+-----------+--------------------------------------------+------------------+\n",
      "only showing top 20 rows\n",
      "\n"
     ]
    },
    {
     "name": "stderr",
     "output_type": "stream",
     "text": [
      "\r",
      "                                                                                \r"
     ]
    }
   ],
   "source": [
    "# 소방서와 CallType별 평균 지연시간\n",
    "df.rollup('StationArea', 'CallType') \\\n",
    "    .agg(F.avg('ResponseDelayedinMins').alias('AvgResponseTime')) \\\n",
    "    .orderBy('StationArea', 'CallType') \\\n",
    "    .show(truncate=False)"
   ]
  },
  {
   "cell_type": "markdown",
   "id": "ce8fc840",
   "metadata": {},
   "source": [
    "## OriginalPriority, Priority, FinalPriority"
   ]
  },
  {
   "cell_type": "code",
   "execution_count": 33,
   "id": "6c6a9132",
   "metadata": {},
   "outputs": [
    {
     "name": "stderr",
     "output_type": "stream",
     "text": [
      "\r",
      "[Stage 46:=========================================>            (153 + 2) / 200]\r",
      "\r",
      "[Stage 46:=====================================================>(198 + 2) / 200]\r"
     ]
    },
    {
     "name": "stdout",
     "output_type": "stream",
     "text": [
      "+----------------+------------------+\n",
      "|OriginalPriority|AvgResponse       |\n",
      "+----------------+------------------+\n",
      "|null            |6.694558955397691 |\n",
      "|1               |5.337625653748358 |\n",
      "|2               |4.910639418509445 |\n",
      "|3               |3.6404840559928235|\n",
      "|A               |3.011516133027692 |\n",
      "|B               |2.8238012383923174|\n",
      "|C               |2.5783730173040005|\n",
      "|E               |3.392433251869964 |\n",
      "|I               |2.237349397626268 |\n",
      "+----------------+------------------+\n",
      "\n"
     ]
    },
    {
     "name": "stderr",
     "output_type": "stream",
     "text": [
      "\r",
      "                                                                                \r"
     ]
    }
   ],
   "source": [
    "# 호출 우선순위에 따른 지연시간\n",
    "df.groupBy('OriginalPriority').agg(F.avg('ResponseDelayedinMins').alias('AvgResponse'))\\\n",
    "    .orderBy('OriginalPriority', ascending=True).show(truncate=False)"
   ]
  },
  {
   "cell_type": "code",
   "execution_count": 37,
   "id": "548cb4ff",
   "metadata": {},
   "outputs": [
    {
     "name": "stderr",
     "output_type": "stream",
     "text": [
      "[Stage 58:==================================>                   (127 + 2) / 200]\r"
     ]
    },
    {
     "name": "stdout",
     "output_type": "stream",
     "text": [
      "+----------------+------------------+\n",
      "|OriginalPriority|AvgResponse       |\n",
      "+----------------+------------------+\n",
      "|1               |5.337625653748358 |\n",
      "|2               |4.910639418509445 |\n",
      "|3               |3.6404840559928235|\n",
      "|A               |3.011516133027692 |\n",
      "|B               |2.8238012383923174|\n",
      "|C               |2.5783730173040005|\n",
      "|E               |3.392433251869964 |\n",
      "|I               |2.237349397626268 |\n",
      "+----------------+------------------+\n",
      "\n"
     ]
    },
    {
     "name": "stderr",
     "output_type": "stream",
     "text": [
      "\r",
      "[Stage 58:===================================================>  (190 + 2) / 200]\r",
      "\r",
      "                                                                                \r"
     ]
    }
   ],
   "source": [
    "# null값 삭제\n",
    "df = df.filter(df[\"OriginalPriority\"].isNotNull())\n",
    "df.groupBy('OriginalPriority').agg(F.avg('ResponseDelayedinMins').alias('AvgResponse'))\\\n",
    "    .orderBy('OriginalPriority', ascending=True).show(truncate=False)"
   ]
  },
  {
   "cell_type": "code",
   "execution_count": 30,
   "id": "d05c0bf9",
   "metadata": {},
   "outputs": [
    {
     "name": "stderr",
     "output_type": "stream",
     "text": [
      "\r",
      "[Stage 29:=============================>                            (1 + 1) / 2]\r"
     ]
    },
    {
     "name": "stdout",
     "output_type": "stream",
     "text": [
      "+--------+------------------+\n",
      "|Priority|AvgResponse       |\n",
      "+--------+------------------+\n",
      "|1       |5.162969258732872 |\n",
      "|2       |4.611481444619451 |\n",
      "|3       |3.6863685465231164|\n",
      "|A       |4.201736083461179 |\n",
      "|B       |4.903787863977028 |\n",
      "|C       |4.610416620969772 |\n",
      "|E       |3.5395174973000785|\n",
      "|I       |3.2333333492279053|\n",
      "+--------+------------------+\n",
      "\n"
     ]
    },
    {
     "name": "stderr",
     "output_type": "stream",
     "text": [
      "\r",
      "[Stage 30:=======================================>              (147 + 2) / 200]\r",
      "\r",
      "                                                                                \r"
     ]
    }
   ],
   "source": [
    "# 사건 우선순위에 따른 지연 시간\n",
    "df.groupBy('Priority').agg(F.avg('ResponseDelayedinMins').alias('AvgResponse'))\\\n",
    "    .orderBy('Priority', ascending=True).show(truncate=False)"
   ]
  },
  {
   "cell_type": "code",
   "execution_count": 34,
   "id": "cbb2ebb4",
   "metadata": {},
   "outputs": [
    {
     "name": "stderr",
     "output_type": "stream",
     "text": [
      "[Stage 48:===================================================>  (190 + 3) / 200]\r"
     ]
    },
    {
     "name": "stdout",
     "output_type": "stream",
     "text": [
      "+-------------+------------------+\n",
      "|FinalPriority|AvgResponse       |\n",
      "+-------------+------------------+\n",
      "|2            |4.708378853760759 |\n",
      "|3            |3.6782840658888674|\n",
      "+-------------+------------------+\n",
      "\n"
     ]
    },
    {
     "name": "stderr",
     "output_type": "stream",
     "text": [
      "\r",
      "                                                                                \r"
     ]
    }
   ],
   "source": [
    "# 최종 우선순위에 따른 지연시간\n",
    "df.groupBy('FinalPriority').agg(F.avg('ResponseDelayedinMins').alias('AvgResponse'))\\\n",
    "    .orderBy('FinalPriority', ascending=True).show(truncate=False)"
   ]
  }
 ],
 "metadata": {
  "kernelspec": {
   "display_name": "Python (spark_start)",
   "language": "python",
   "name": "spark_start"
  },
  "language_info": {
   "codemirror_mode": {
    "name": "ipython",
    "version": 3
   },
   "file_extension": ".py",
   "mimetype": "text/x-python",
   "name": "python",
   "nbconvert_exporter": "python",
   "pygments_lexer": "ipython3",
   "version": "3.8.20"
  }
 },
 "nbformat": 4,
 "nbformat_minor": 5
}

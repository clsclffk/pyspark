{
 "cells": [
  {
   "cell_type": "code",
   "execution_count": 1,
   "id": "93ead209",
   "metadata": {},
   "outputs": [
    {
     "name": "stderr",
     "output_type": "stream",
     "text": [
      "24/12/04 15:41:27 WARN NativeCodeLoader: Unable to load native-hadoop library for your platform... using builtin-java classes where applicable\n",
      "Using Spark's default log4j profile: org/apache/spark/log4j-defaults.properties\n",
      "Setting default log level to \"WARN\".\n",
      "To adjust logging level use sc.setLogLevel(newLevel). For SparkR, use setLogLevel(newLevel).\n"
     ]
    }
   ],
   "source": [
    "from pyspark import SparkConf, SparkContext\n",
    "from collections import OrderedDict\n",
    "conf = SparkConf().setMaster(\"local\").setAppName(\"MovieLens\")\n",
    "sc = SparkContext(conf=conf)"
   ]
  },
  {
   "cell_type": "code",
   "execution_count": 2,
   "id": "d3801a87",
   "metadata": {},
   "outputs": [],
   "source": [
    "import os\n",
    "directory = os.path.join(os.getcwd(), \"data\") \n",
    "filename  = \"u.data\"\n",
    "file_path = os.path.join(directory, filename)"
   ]
  },
  {
   "cell_type": "markdown",
   "id": "921efa10",
   "metadata": {},
   "source": [
    "### columns\n",
    "- user_id\n",
    "- movie_id\n",
    "- rating\n",
    "- timestamp"
   ]
  },
  {
   "cell_type": "code",
   "execution_count": 3,
   "id": "e573817e",
   "metadata": {},
   "outputs": [],
   "source": [
    "lines = sc.textFile(\"file:///\" + file_path.replace(\"\\\\\", \"/\"))"
   ]
  },
  {
   "cell_type": "code",
   "execution_count": 15,
   "id": "e3a46823",
   "metadata": {},
   "outputs": [
    {
     "data": {
      "text/plain": [
       "'196\\t242\\t3\\t881250949'"
      ]
     },
     "execution_count": 15,
     "metadata": {},
     "output_type": "execute_result"
    }
   ],
   "source": [
    "lines.first()"
   ]
  },
  {
   "cell_type": "code",
   "execution_count": 4,
   "id": "02f46899",
   "metadata": {},
   "outputs": [
    {
     "name": "stderr",
     "output_type": "stream",
     "text": [
      "                                                                                \r"
     ]
    },
    {
     "data": {
      "text/plain": [
       "['196\\t242\\t3\\t881250949',\n",
       " '186\\t302\\t3\\t891717742',\n",
       " '22\\t377\\t1\\t878887116',\n",
       " '244\\t51\\t2\\t880606923',\n",
       " '166\\t346\\t1\\t886397596']"
      ]
     },
     "execution_count": 4,
     "metadata": {},
     "output_type": "execute_result"
    }
   ],
   "source": [
    "lines.collect()[:5]"
   ]
  },
  {
   "cell_type": "code",
   "execution_count": 19,
   "id": "c6880c43",
   "metadata": {},
   "outputs": [
    {
     "name": "stdout",
     "output_type": "stream",
     "text": [
      "Highest Rated Movie ID: 1306\n",
      "Average Rating: 5.0\n"
     ]
    }
   ],
   "source": [
    "# (movie_id, rating)\n",
    "movie_ratings = lines.map(lambda x: (x.split('\\t')[1], int(x.split('\\t')[2])))\n",
    "\n",
    "# 평점 3점 이상인 영화\n",
    "filtered_movie_ratings = movie_ratings.filter(lambda x: x[1] >= 3)\n",
    "\n",
    "# 영화별로 그룹화 후 평균 평점\n",
    "movie_avg_ratings = filtered_movie_ratings \\\n",
    "    .groupByKey() \\\n",
    "    .mapValues(lambda ratings: sum(ratings) / len(ratings))\n",
    "\n",
    "# 가장 높은 평균 평점을 가진 영화\n",
    "highest_rated_movie = movie_avg_ratings.max(key=lambda x: x[1])\n",
    "\n",
    "print(f\"Highest Rated Movie ID: {highest_rated_movie[0]}\")\n",
    "print(f\"Average Rating: {highest_rated_movie[1]}\")"
   ]
  },
  {
   "cell_type": "code",
   "execution_count": null,
   "id": "b7d663dc",
   "metadata": {},
   "outputs": [],
   "source": []
  }
 ],
 "metadata": {
  "kernelspec": {
   "display_name": "Python (spark_start)",
   "language": "python",
   "name": "spark_start"
  },
  "language_info": {
   "codemirror_mode": {
    "name": "ipython",
    "version": 3
   },
   "file_extension": ".py",
   "mimetype": "text/x-python",
   "name": "python",
   "nbconvert_exporter": "python",
   "pygments_lexer": "ipython3",
   "version": "3.8.20"
  }
 },
 "nbformat": 4,
 "nbformat_minor": 5
}

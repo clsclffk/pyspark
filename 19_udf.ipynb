{
 "cells": [
  {
   "cell_type": "code",
   "execution_count": 1,
   "id": "0477fd52",
   "metadata": {},
   "outputs": [
    {
     "name": "stderr",
     "output_type": "stream",
     "text": [
      "24/12/11 16:09:52 WARN NativeCodeLoader: Unable to load native-hadoop library for your platform... using builtin-java classes where applicable\n",
      "Using Spark's default log4j profile: org/apache/spark/log4j-defaults.properties\n",
      "Setting default log level to \"WARN\".\n",
      "To adjust logging level use sc.setLogLevel(newLevel). For SparkR, use setLogLevel(newLevel).\n"
     ]
    }
   ],
   "source": [
    "from pyspark.sql import SparkSession\n",
    "\n",
    "spark = SparkSession.builder.appName('UDF').getOrCreate()\n"
   ]
  },
  {
   "cell_type": "code",
   "execution_count": 2,
   "id": "1e085c22",
   "metadata": {},
   "outputs": [],
   "source": [
    "datas = [\n",
    "    (\"A\", \"2022-04-16\", 31200),\n",
    "    (\"B\", \"2022-04-17\", 41200),\n",
    "    (\"C\", \"2022-04-11\", 31500),\n",
    "    (\"D\", \"2022-04-12\", 21500),\n",
    "    (\"E\", \"2022-04-13\", 51000)\n",
    "]\n",
    "\n",
    "columns = [\"product\", \"date\", \"price\"]"
   ]
  },
  {
   "cell_type": "code",
   "execution_count": 3,
   "id": "e7fd27a3",
   "metadata": {},
   "outputs": [
    {
     "name": "stderr",
     "output_type": "stream",
     "text": [
      "\r",
      "[Stage 0:>                                                          (0 + 1) / 1]\r"
     ]
    },
    {
     "name": "stdout",
     "output_type": "stream",
     "text": [
      "+-------+----------+-----+\n",
      "|product|      date|price|\n",
      "+-------+----------+-----+\n",
      "|      A|2022-04-16|31200|\n",
      "|      B|2022-04-17|41200|\n",
      "|      C|2022-04-11|31500|\n",
      "|      D|2022-04-12|21500|\n",
      "|      E|2022-04-13|51000|\n",
      "+-------+----------+-----+\n",
      "\n"
     ]
    },
    {
     "name": "stderr",
     "output_type": "stream",
     "text": [
      "\r",
      "                                                                                \r"
     ]
    }
   ],
   "source": [
    "df = spark.createDataFrame(data=datas, schema=columns)\n",
    "df.show()"
   ]
  },
  {
   "cell_type": "markdown",
   "id": "991611d8",
   "metadata": {},
   "source": [
    "## UDF (User Defined Function)\n",
    "1. 파이썬으로 함수 정의\n",
    "2. `spark.udf.register()`로 등록\n",
    "3. sql문 안에서 func처럼 사용"
   ]
  },
  {
   "cell_type": "code",
   "execution_count": 4,
   "id": "945b42c3",
   "metadata": {},
   "outputs": [],
   "source": [
    "df.createOrReplaceTempView('product')"
   ]
  },
  {
   "cell_type": "code",
   "execution_count": 5,
   "id": "29c4ae05",
   "metadata": {},
   "outputs": [
    {
     "data": {
      "text/plain": [
       "<function __main__.squared(n)>"
      ]
     },
     "execution_count": 5,
     "metadata": {},
     "output_type": "execute_result"
    }
   ],
   "source": [
    "from pyspark.sql.types import LongType\n",
    "\n",
    "def squared(n):\n",
    "    return n*n\n",
    "\n",
    "spark.udf.register('squared', squared, LongType())"
   ]
  },
  {
   "cell_type": "code",
   "execution_count": 6,
   "id": "3616990e",
   "metadata": {},
   "outputs": [
    {
     "name": "stdout",
     "output_type": "stream",
     "text": [
      "+-----+--------------+\n",
      "|price|squared(price)|\n",
      "+-----+--------------+\n",
      "|31200|     973440000|\n",
      "|41200|    1697440000|\n",
      "|31500|     992250000|\n",
      "|21500|     462250000|\n",
      "|51000|    2601000000|\n",
      "+-----+--------------+\n",
      "\n"
     ]
    }
   ],
   "source": [
    "spark.sql('select price, squared(price) from product').show()"
   ]
  },
  {
   "cell_type": "code",
   "execution_count": 9,
   "id": "dcdc2cdc",
   "metadata": {},
   "outputs": [],
   "source": [
    "def read_number(n):\n",
    "    units = [\"\", \"십\", \"백\", \"천\", \"만\"]\n",
    "    nums = '일이삼사오육칠팔구'\n",
    "    result = []\n",
    "    i = 0\n",
    "    while n>0:\n",
    "        n, r = divmod(n, 10)\n",
    "        if r>0:\n",
    "            result.append(nums[r-1]+units[i])\n",
    "        i += 1\n",
    "    return ''.join(reversed(result))"
   ]
  },
  {
   "cell_type": "code",
   "execution_count": 10,
   "id": "6bd67618",
   "metadata": {},
   "outputs": [
    {
     "data": {
      "text/plain": [
       "'일백이십삼'"
      ]
     },
     "execution_count": 10,
     "metadata": {},
     "output_type": "execute_result"
    }
   ],
   "source": [
    "read_number(123)"
   ]
  },
  {
   "cell_type": "code",
   "execution_count": 11,
   "id": "824a4b31",
   "metadata": {},
   "outputs": [
    {
     "name": "stdout",
     "output_type": "stream",
     "text": [
      "+-----+------------------+\n",
      "|price|read_number(price)|\n",
      "+-----+------------------+\n",
      "|31200|      삼만일천이백|\n",
      "|41200|      사만일천이백|\n",
      "|31500|      삼만일천오백|\n",
      "|21500|      이만일천오백|\n",
      "|51000|          오만일천|\n",
      "+-----+------------------+\n",
      "\n"
     ]
    }
   ],
   "source": [
    "spark.udf.register('read_number', read_number)\n",
    "spark.sql('select price, read_number(price) from product').show()"
   ]
  },
  {
   "cell_type": "code",
   "execution_count": 12,
   "id": "d0f5e9f2",
   "metadata": {},
   "outputs": [],
   "source": [
    "spark.stop()"
   ]
  }
 ],
 "metadata": {
  "kernelspec": {
   "display_name": "Python (spark_start)",
   "language": "python",
   "name": "spark_start"
  },
  "language_info": {
   "codemirror_mode": {
    "name": "ipython",
    "version": 3
   },
   "file_extension": ".py",
   "mimetype": "text/x-python",
   "name": "python",
   "nbconvert_exporter": "python",
   "pygments_lexer": "ipython3",
   "version": "3.8.20"
  }
 },
 "nbformat": 4,
 "nbformat_minor": 5
}

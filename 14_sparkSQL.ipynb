{
 "cells": [
  {
   "cell_type": "code",
   "execution_count": 1,
   "id": "8ad34441",
   "metadata": {},
   "outputs": [
    {
     "name": "stderr",
     "output_type": "stream",
     "text": [
      "24/12/10 13:32:07 WARN NativeCodeLoader: Unable to load native-hadoop library for your platform... using builtin-java classes where applicable\n",
      "Using Spark's default log4j profile: org/apache/spark/log4j-defaults.properties\n",
      "Setting default log level to \"WARN\".\n",
      "To adjust logging level use sc.setLogLevel(newLevel). For SparkR, use setLogLevel(newLevel).\n",
      "24/12/10 13:32:08 WARN Utils: Service 'SparkUI' could not bind on port 4040. Attempting port 4041.\n"
     ]
    }
   ],
   "source": [
    "from pyspark.sql import SparkSession\n",
    "\n",
    "spark = SparkSession.builder.appName(\"RDD Example\").getOrCreate()\n",
    "sc = spark.sparkContext"
   ]
  },
  {
   "cell_type": "code",
   "execution_count": 2,
   "id": "9b8be756",
   "metadata": {},
   "outputs": [],
   "source": [
    "movies_rdd = sc.parallelize([\n",
    "    (1, ('어벤져스', '마블')),\n",
    "    (2, ('아이언맨', '마블')),\n",
    "    (3, ('배트맨', 'DC')),\n",
    "    (4, ('슈퍼맨', 'DC')),\n",
    "    (5, ('토르', '마블')),\n",
    "    (6, ('스파이더맨', '마블')),\n",
    "    (7, ('블랙팬서', '마블')),\n",
    "    (8, ('저스티스 리그', 'DC'))\n",
    "])\n",
    "\n",
    "\n",
    "attendances_rdd = sc.parallelize([\n",
    "    (1, (13934592, 'KR')),\n",
    "    (2, (9238472, 'US')),\n",
    "    (3, (8432921, 'JP')),\n",
    "    (4, (2348921, 'UK')),\n",
    "    (5, (1238476, 'IN')),\n",
    "    (6, (7432198, 'DE')),\n",
    "    (7, (5673849, 'FR')),\n",
    "    (8, (9874321, 'BR'))\n",
    "])"
   ]
  },
  {
   "cell_type": "markdown",
   "id": "a9a249bf",
   "metadata": {},
   "source": [
    "## 관객 수가 500만 이상인 영화를 가져오기\n",
    "- 필터링한 뒤 조인을 하는 것이 더 효율적"
   ]
  },
  {
   "cell_type": "code",
   "execution_count": 3,
   "id": "0bdb797a",
   "metadata": {},
   "outputs": [
    {
     "name": "stderr",
     "output_type": "stream",
     "text": [
      "                                                                                \r"
     ]
    },
    {
     "data": {
      "text/plain": [
       "[(8, (('저스티스 리그', 'DC'), (9874321, 'BR'))),\n",
       " (1, (('어벤져스', '마블'), (13934592, 'KR'))),\n",
       " (2, (('아이언맨', '마블'), (9238472, 'US'))),\n",
       " (6, (('스파이더맨', '마블'), (7432198, 'DE'))),\n",
       " (3, (('배트맨', 'DC'), (8432921, 'JP'))),\n",
       " (7, (('블랙팬서', '마블'), (5673849, 'FR')))]"
      ]
     },
     "execution_count": 3,
     "metadata": {},
     "output_type": "execute_result"
    }
   ],
   "source": [
    "# 조인 먼저\n",
    "movies_att = movies_rdd.join(attendances_rdd)\n",
    "movies_att.filter(lambda x:x[1][1][0] >= 5000000).collect()"
   ]
  },
  {
   "cell_type": "code",
   "execution_count": 4,
   "id": "e148f59d",
   "metadata": {},
   "outputs": [
    {
     "data": {
      "text/plain": [
       "[(8, (('저스티스 리그', 'DC'), (9874321, 'BR'))),\n",
       " (1, (('어벤져스', '마블'), (13934592, 'KR'))),\n",
       " (2, (('아이언맨', '마블'), (9238472, 'US'))),\n",
       " (6, (('스파이더맨', '마블'), (7432198, 'DE'))),\n",
       " (3, (('배트맨', 'DC'), (8432921, 'JP'))),\n",
       " (7, (('블랙팬서', '마블'), (5673849, 'FR')))]"
      ]
     },
     "execution_count": 4,
     "metadata": {},
     "output_type": "execute_result"
    }
   ],
   "source": [
    "# 필터 먼저\n",
    "filtered_att = attendances_rdd.filter(lambda x:x[1][0] >= 5000000)\n",
    "movies_rdd.join(filtered_att).collect()"
   ]
  },
  {
   "cell_type": "code",
   "execution_count": 6,
   "id": "eb1d2dd4",
   "metadata": {},
   "outputs": [
    {
     "name": "stdout",
     "output_type": "stream",
     "text": [
      "root\n",
      " |-- ID: long (nullable = true)\n",
      " |-- Title: string (nullable = true)\n",
      " |-- Genre: string (nullable = true)\n",
      " |-- Year: long (nullable = true)\n",
      " |-- Month: long (nullable = true)\n",
      " |-- Day: long (nullable = true)\n",
      "\n"
     ]
    }
   ],
   "source": [
    "movies = [\n",
    "    (1, '어벤져스', '마블', 2019, 4, 25),\n",
    "    (2, '아이언맨', '마블', 2008, 5, 2),\n",
    "    (3, '배트맨', 'DC', 2005, 6, 15),\n",
    "    (4, '슈퍼맨', 'DC', 1978, 12, 15),\n",
    "    (5, '토르', '마블', 2011, 4, 10),\n",
    "    (6, '스파이더맨', '마블', 2002, 7, 3),\n",
    "    (7, '블랙팬서', '마블', 2018, 2, 16),\n",
    "    (8, '저스티스 리그', 'DC', 2017, 11, 17)\n",
    "]\n",
    "\n",
    "movie_schema = ['ID', 'Title', 'Genre', 'Year', 'Month', 'Day']\n",
    "\n",
    "df = spark.createDataFrame(data=movies, schema=movie_schema)\n",
    "df.printSchema()"
   ]
  },
  {
   "cell_type": "code",
   "execution_count": 7,
   "id": "966e7adc",
   "metadata": {},
   "outputs": [
    {
     "name": "stdout",
     "output_type": "stream",
     "text": [
      "+---+-------------+-----+----+-----+---+\n",
      "| ID|        Title|Genre|Year|Month|Day|\n",
      "+---+-------------+-----+----+-----+---+\n",
      "|  1|     어벤져스| 마블|2019|    4| 25|\n",
      "|  2|     아이언맨| 마블|2008|    5|  2|\n",
      "|  3|       배트맨|   DC|2005|    6| 15|\n",
      "|  4|       슈퍼맨|   DC|1978|   12| 15|\n",
      "|  5|         토르| 마블|2011|    4| 10|\n",
      "|  6|   스파이더맨| 마블|2002|    7|  3|\n",
      "|  7|     블랙팬서| 마블|2018|    2| 16|\n",
      "|  8|저스티스 리그|   DC|2017|   11| 17|\n",
      "+---+-------------+-----+----+-----+---+\n",
      "\n"
     ]
    }
   ],
   "source": [
    "df.show()"
   ]
  },
  {
   "cell_type": "code",
   "execution_count": 9,
   "id": "d2d96365",
   "metadata": {},
   "outputs": [
    {
     "name": "stdout",
     "output_type": "stream",
     "text": [
      "+---+\n",
      "| ID|\n",
      "+---+\n",
      "|  1|\n",
      "|  2|\n",
      "|  3|\n",
      "|  4|\n",
      "|  5|\n",
      "|  6|\n",
      "|  7|\n",
      "|  8|\n",
      "+---+\n",
      "\n"
     ]
    }
   ],
   "source": [
    "df.select('ID').show()"
   ]
  },
  {
   "cell_type": "code",
   "execution_count": 10,
   "id": "e9819f9a",
   "metadata": {},
   "outputs": [
    {
     "name": "stdout",
     "output_type": "stream",
     "text": [
      "+---+-------------+-----+----+-----+---+\n",
      "| ID|        Title|Genre|Year|Month|Day|\n",
      "+---+-------------+-----+----+-----+---+\n",
      "|  1|     어벤져스| 마블|2019|    4| 25|\n",
      "|  5|         토르| 마블|2011|    4| 10|\n",
      "|  7|     블랙팬서| 마블|2018|    2| 16|\n",
      "|  8|저스티스 리그|   DC|2017|   11| 17|\n",
      "+---+-------------+-----+----+-----+---+\n",
      "\n"
     ]
    }
   ],
   "source": [
    "df.filter(df.Year >=2010).show()"
   ]
  },
  {
   "cell_type": "markdown",
   "id": "1408bf02",
   "metadata": {},
   "source": [
    "## View 등록"
   ]
  },
  {
   "cell_type": "code",
   "execution_count": 11,
   "id": "4a341239",
   "metadata": {},
   "outputs": [],
   "source": [
    "df.createOrReplaceTempView('movies')"
   ]
  },
  {
   "cell_type": "code",
   "execution_count": 12,
   "id": "65aeea40",
   "metadata": {},
   "outputs": [
    {
     "name": "stdout",
     "output_type": "stream",
     "text": [
      "+---+-------------+-----+----+-----+---+\n",
      "| ID|        Title|Genre|Year|Month|Day|\n",
      "+---+-------------+-----+----+-----+---+\n",
      "|  1|     어벤져스| 마블|2019|    4| 25|\n",
      "|  2|     아이언맨| 마블|2008|    5|  2|\n",
      "|  3|       배트맨|   DC|2005|    6| 15|\n",
      "|  4|       슈퍼맨|   DC|1978|   12| 15|\n",
      "|  5|         토르| 마블|2011|    4| 10|\n",
      "|  6|   스파이더맨| 마블|2002|    7|  3|\n",
      "|  7|     블랙팬서| 마블|2018|    2| 16|\n",
      "|  8|저스티스 리그|   DC|2017|   11| 17|\n",
      "+---+-------------+-----+----+-----+---+\n",
      "\n"
     ]
    }
   ],
   "source": [
    "query = \"\"\"\n",
    "select * from movies\n",
    "\"\"\"\n",
    "\n",
    "spark.sql(query).show()"
   ]
  },
  {
   "cell_type": "markdown",
   "id": "e6417d47",
   "metadata": {},
   "source": [
    "## 2010년 이후 개봉한 영화"
   ]
  },
  {
   "cell_type": "code",
   "execution_count": 13,
   "id": "b0446280",
   "metadata": {},
   "outputs": [
    {
     "name": "stdout",
     "output_type": "stream",
     "text": [
      "+---+-------------+\n",
      "| ID|        Title|\n",
      "+---+-------------+\n",
      "|  1|     어벤져스|\n",
      "|  5|         토르|\n",
      "|  7|     블랙팬서|\n",
      "|  8|저스티스 리그|\n",
      "+---+-------------+\n",
      "\n"
     ]
    }
   ],
   "source": [
    "query = '''\n",
    "select ID, Title\n",
    "from movies\n",
    "where Year > 2010\n",
    "'''\n",
    "\n",
    "spark.sql(query).show()"
   ]
  },
  {
   "cell_type": "markdown",
   "id": "3ed0b76f",
   "metadata": {},
   "source": [
    "## 장르가 마블인 영화 "
   ]
  },
  {
   "cell_type": "code",
   "execution_count": 15,
   "id": "98826510",
   "metadata": {},
   "outputs": [
    {
     "name": "stdout",
     "output_type": "stream",
     "text": [
      "+----------+\n",
      "|     Title|\n",
      "+----------+\n",
      "|  어벤져스|\n",
      "|  아이언맨|\n",
      "|      토르|\n",
      "|스파이더맨|\n",
      "|  블랙팬서|\n",
      "+----------+\n",
      "\n"
     ]
    }
   ],
   "source": [
    "query = '''\n",
    "select Title\n",
    "from movies\n",
    "where Genre = '마블'\n",
    "'''\n",
    "\n",
    "spark.sql(query).show()"
   ]
  },
  {
   "cell_type": "markdown",
   "id": "8bd54259",
   "metadata": {},
   "source": [
    "## 제목이 '맨'으로 끝나는 영화"
   ]
  },
  {
   "cell_type": "code",
   "execution_count": 16,
   "id": "76c48e8e",
   "metadata": {},
   "outputs": [
    {
     "name": "stdout",
     "output_type": "stream",
     "text": [
      "+----------+\n",
      "|     Title|\n",
      "+----------+\n",
      "|  아이언맨|\n",
      "|    배트맨|\n",
      "|    슈퍼맨|\n",
      "|스파이더맨|\n",
      "+----------+\n",
      "\n"
     ]
    }
   ],
   "source": [
    "query = '''\n",
    "select Title\n",
    "from movies\n",
    "where Title Like \"%맨\"\n",
    "'''\n",
    "\n",
    "spark.sql(query).show()"
   ]
  },
  {
   "cell_type": "markdown",
   "id": "3c9184be",
   "metadata": {},
   "source": [
    "## 제목에 '이'가 들어가 있는 영화 "
   ]
  },
  {
   "cell_type": "code",
   "execution_count": 18,
   "id": "e136d7e2",
   "metadata": {},
   "outputs": [
    {
     "name": "stdout",
     "output_type": "stream",
     "text": [
      "+----------+\n",
      "|     Title|\n",
      "+----------+\n",
      "|  아이언맨|\n",
      "|스파이더맨|\n",
      "+----------+\n",
      "\n"
     ]
    }
   ],
   "source": [
    "query = '''\n",
    "select Title\n",
    "from movies\n",
    "where Title Like \"%이%\"\n",
    "'''\n",
    "\n",
    "spark.sql(query).show()"
   ]
  },
  {
   "cell_type": "markdown",
   "id": "9bebafc3",
   "metadata": {},
   "source": [
    "## 개봉월이 4~8월 사이인 영화"
   ]
  },
  {
   "cell_type": "code",
   "execution_count": 19,
   "id": "64fe0d8e",
   "metadata": {},
   "outputs": [
    {
     "name": "stdout",
     "output_type": "stream",
     "text": [
      "+----------+\n",
      "|     Title|\n",
      "+----------+\n",
      "|  어벤져스|\n",
      "|  아이언맨|\n",
      "|    배트맨|\n",
      "|      토르|\n",
      "|스파이더맨|\n",
      "+----------+\n",
      "\n"
     ]
    }
   ],
   "source": [
    "query = '''\n",
    "select Title\n",
    "from movies\n",
    "where Month Between 4 And 8\n",
    "'''\n",
    "\n",
    "spark.sql(query).show()"
   ]
  },
  {
   "cell_type": "markdown",
   "id": "aff66285",
   "metadata": {},
   "source": [
    "## 제목이 '맨'으로 끝나면서 개봉연도가 2000년 이상인 영화"
   ]
  },
  {
   "cell_type": "code",
   "execution_count": 21,
   "id": "0b2d3341",
   "metadata": {},
   "outputs": [
    {
     "name": "stdout",
     "output_type": "stream",
     "text": [
      "+----------+\n",
      "|     Title|\n",
      "+----------+\n",
      "|  아이언맨|\n",
      "|    배트맨|\n",
      "|스파이더맨|\n",
      "+----------+\n",
      "\n"
     ]
    }
   ],
   "source": [
    "query = '''\n",
    "select Title\n",
    "from movies\n",
    "where Year >= 2000 And Title Like '%맨'\n",
    "'''\n",
    "\n",
    "spark.sql(query).show()"
   ]
  },
  {
   "cell_type": "markdown",
   "id": "87fc7ce6",
   "metadata": {},
   "source": [
    "## 장르가 마블, DC인 영화"
   ]
  },
  {
   "cell_type": "code",
   "execution_count": 22,
   "id": "3fc24eeb",
   "metadata": {},
   "outputs": [
    {
     "name": "stdout",
     "output_type": "stream",
     "text": [
      "+-------------+\n",
      "|        Title|\n",
      "+-------------+\n",
      "|     어벤져스|\n",
      "|     아이언맨|\n",
      "|       배트맨|\n",
      "|       슈퍼맨|\n",
      "|         토르|\n",
      "|   스파이더맨|\n",
      "|     블랙팬서|\n",
      "|저스티스 리그|\n",
      "+-------------+\n",
      "\n"
     ]
    }
   ],
   "source": [
    "query = '''\n",
    "select Title\n",
    "from movies\n",
    "where Genre in ('마블','DC')\n",
    "'''\n",
    "\n",
    "spark.sql(query).show()"
   ]
  },
  {
   "cell_type": "markdown",
   "id": "14de2245",
   "metadata": {},
   "source": [
    "## 장르가 '마'로 시작하거나 제목이 '맨'으로 끝나는 영화 중 2000년 이후로 개봉한 영화"
   ]
  },
  {
   "cell_type": "code",
   "execution_count": 23,
   "id": "63ad4d59",
   "metadata": {},
   "outputs": [
    {
     "name": "stdout",
     "output_type": "stream",
     "text": [
      "+----------+\n",
      "|     Title|\n",
      "+----------+\n",
      "|  아이언맨|\n",
      "|    배트맨|\n",
      "|스파이더맨|\n",
      "+----------+\n",
      "\n"
     ]
    }
   ],
   "source": [
    "query = '''\n",
    "select Title\n",
    "from movies\n",
    "where Genre Like '%마' or (Title Like '%맨' And Year > 2000)\n",
    "'''\n",
    "\n",
    "spark.sql(query).show()"
   ]
  },
  {
   "cell_type": "markdown",
   "id": "49e0cbae",
   "metadata": {},
   "source": [
    "## count()"
   ]
  },
  {
   "cell_type": "code",
   "execution_count": 28,
   "id": "fbc4f5cd",
   "metadata": {
    "scrolled": true
   },
   "outputs": [
    {
     "data": {
      "text/plain": [
       "[('id', 'int'), ('att', 'int'), ('theater_country', 'string')]"
      ]
     },
     "execution_count": 28,
     "metadata": {},
     "output_type": "execute_result"
    }
   ],
   "source": [
    "from pyspark.sql.types import StructType,StructField,IntegerType,FloatType, StringType\n",
    "\n",
    "attendances = [\n",
    "    (1, 13934592, 'KR'),\n",
    "    (2, 9238472, 'US'),\n",
    "    (3, 8432921, 'JP'),\n",
    "    (4, 2348921, 'UK'),\n",
    "    (5, 1238476, 'IN'),\n",
    "    (6, 7432198, 'DE'),\n",
    "    (7, 5673849, 'FR'),\n",
    "    (8, 9874321, 'BR')\n",
    "]\n",
    "\n",
    "att_schema = StructType([\n",
    "    StructField('id', IntegerType(), True),\n",
    "    StructField('att', IntegerType(), True),\n",
    "    StructField('theater_country', StringType(), True)\n",
    "])\n",
    "\n",
    "att_df = spark.createDataFrame(data=attendances, schema=att_schema)\n",
    "att_df.dtypes"
   ]
  },
  {
   "cell_type": "code",
   "execution_count": 29,
   "id": "5401bf41",
   "metadata": {},
   "outputs": [
    {
     "name": "stdout",
     "output_type": "stream",
     "text": [
      "+---+--------+---------------+\n",
      "| id|     att|theater_country|\n",
      "+---+--------+---------------+\n",
      "|  1|13934592|             KR|\n",
      "|  2| 9238472|             US|\n",
      "|  3| 8432921|             JP|\n",
      "|  4| 2348921|             UK|\n",
      "|  5| 1238476|             IN|\n",
      "|  6| 7432198|             DE|\n",
      "|  7| 5673849|             FR|\n",
      "|  8| 9874321|             BR|\n",
      "+---+--------+---------------+\n",
      "\n"
     ]
    }
   ],
   "source": [
    "att_df.show()"
   ]
  },
  {
   "cell_type": "code",
   "execution_count": 30,
   "id": "1b2797a6",
   "metadata": {},
   "outputs": [],
   "source": [
    "att_df.createOrReplaceTempView('att')"
   ]
  },
  {
   "cell_type": "code",
   "execution_count": 31,
   "id": "78b60b87",
   "metadata": {},
   "outputs": [
    {
     "name": "stdout",
     "output_type": "stream",
     "text": [
      "+---+--------+---------------+\n",
      "| id|     att|theater_country|\n",
      "+---+--------+---------------+\n",
      "|  1|13934592|             KR|\n",
      "|  2| 9238472|             US|\n",
      "|  3| 8432921|             JP|\n",
      "|  4| 2348921|             UK|\n",
      "|  5| 1238476|             IN|\n",
      "|  6| 7432198|             DE|\n",
      "|  7| 5673849|             FR|\n",
      "|  8| 9874321|             BR|\n",
      "+---+--------+---------------+\n",
      "\n"
     ]
    }
   ],
   "source": [
    "att_df.select('*').show()"
   ]
  },
  {
   "cell_type": "code",
   "execution_count": 32,
   "id": "fc4fccc8",
   "metadata": {},
   "outputs": [
    {
     "name": "stderr",
     "output_type": "stream",
     "text": [
      "                                                                                \r"
     ]
    },
    {
     "name": "stdout",
     "output_type": "stream",
     "text": [
      "+---+-------------+-----+----+-----+---+---+--------+---------------+\n",
      "| ID|        Title|Genre|Year|Month|Day| id|     att|theater_country|\n",
      "+---+-------------+-----+----+-----+---+---+--------+---------------+\n",
      "|  7|     블랙팬서| 마블|2018|    2| 16|  7| 5673849|             FR|\n",
      "|  6|   스파이더맨| 마블|2002|    7|  3|  6| 7432198|             DE|\n",
      "|  5|         토르| 마블|2011|    4| 10|  5| 1238476|             IN|\n",
      "|  1|     어벤져스| 마블|2019|    4| 25|  1|13934592|             KR|\n",
      "|  3|       배트맨|   DC|2005|    6| 15|  3| 8432921|             JP|\n",
      "|  8|저스티스 리그|   DC|2017|   11| 17|  8| 9874321|             BR|\n",
      "|  2|     아이언맨| 마블|2008|    5|  2|  2| 9238472|             US|\n",
      "|  4|       슈퍼맨|   DC|1978|   12| 15|  4| 2348921|             UK|\n",
      "+---+-------------+-----+----+-----+---+---+--------+---------------+\n",
      "\n"
     ]
    }
   ],
   "source": [
    "query = '''\n",
    "select *\n",
    "from movies\n",
    "join att \n",
    "on movies.id = att.id\n",
    "'''\n",
    "\n",
    "spark.sql(query).show()"
   ]
  },
  {
   "cell_type": "code",
   "execution_count": 34,
   "id": "b8992fd2",
   "metadata": {
    "scrolled": true
   },
   "outputs": [
    {
     "name": "stdout",
     "output_type": "stream",
     "text": [
      "+---+-------------+-----+--------+---------------+\n",
      "| ID|        Title|Genre|     att|theater_country|\n",
      "+---+-------------+-----+--------+---------------+\n",
      "|  7|     블랙팬서| 마블| 5673849|             FR|\n",
      "|  6|   스파이더맨| 마블| 7432198|             DE|\n",
      "|  5|         토르| 마블| 1238476|             IN|\n",
      "|  1|     어벤져스| 마블|13934592|             KR|\n",
      "|  3|       배트맨|   DC| 8432921|             JP|\n",
      "|  8|저스티스 리그|   DC| 9874321|             BR|\n",
      "|  2|     아이언맨| 마블| 9238472|             US|\n",
      "|  4|       슈퍼맨|   DC| 2348921|             UK|\n",
      "+---+-------------+-----+--------+---------------+\n",
      "\n"
     ]
    }
   ],
   "source": [
    "query = '''\n",
    "select movies.ID, movies.Title, movies.Genre, att.att, att.theater_country\n",
    "from movies\n",
    "join att \n",
    "on movies.id = att.id\n",
    "'''\n",
    "\n",
    "spark.sql(query).show()"
   ]
  },
  {
   "cell_type": "code",
   "execution_count": 35,
   "id": "6d9fdddb",
   "metadata": {},
   "outputs": [],
   "source": [
    "movies_views = spark.sql(query)\n",
    "movies_views.createOrReplaceTempView('movies_view')"
   ]
  },
  {
   "cell_type": "code",
   "execution_count": 38,
   "id": "0c38c110",
   "metadata": {
    "scrolled": true
   },
   "outputs": [
    {
     "name": "stdout",
     "output_type": "stream",
     "text": [
      "+---+-------------+-----+--------+---------------+\n",
      "| ID|        Title|Genre|     att|theater_country|\n",
      "+---+-------------+-----+--------+---------------+\n",
      "|  7|     블랙팬서| 마블| 5673849|             FR|\n",
      "|  6|   스파이더맨| 마블| 7432198|             DE|\n",
      "|  5|         토르| 마블| 1238476|             IN|\n",
      "|  1|     어벤져스| 마블|13934592|             KR|\n",
      "|  3|       배트맨|   DC| 8432921|             JP|\n",
      "|  8|저스티스 리그|   DC| 9874321|             BR|\n",
      "|  2|     아이언맨| 마블| 9238472|             US|\n",
      "|  4|       슈퍼맨|   DC| 2348921|             UK|\n",
      "+---+-------------+-----+--------+---------------+\n",
      "\n"
     ]
    }
   ],
   "source": [
    "query = '''\n",
    "select * \n",
    "from movies_view\n",
    "'''\n",
    "\n",
    "spark.sql(query).show()"
   ]
  },
  {
   "cell_type": "code",
   "execution_count": 39,
   "id": "c61cfc67",
   "metadata": {},
   "outputs": [],
   "source": [
    "spark.stop()"
   ]
  }
 ],
 "metadata": {
  "kernelspec": {
   "display_name": "Python (spark_start)",
   "language": "python",
   "name": "spark_start"
  },
  "language_info": {
   "codemirror_mode": {
    "name": "ipython",
    "version": 3
   },
   "file_extension": ".py",
   "mimetype": "text/x-python",
   "name": "python",
   "nbconvert_exporter": "python",
   "pygments_lexer": "ipython3",
   "version": "3.8.20"
  }
 },
 "nbformat": 4,
 "nbformat_minor": 5
}

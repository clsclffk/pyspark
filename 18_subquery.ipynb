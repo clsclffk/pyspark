{
 "cells": [
  {
   "cell_type": "code",
   "execution_count": 1,
   "id": "c616ca98",
   "metadata": {},
   "outputs": [
    {
     "name": "stderr",
     "output_type": "stream",
     "text": [
      "24/12/11 15:41:28 WARN NativeCodeLoader: Unable to load native-hadoop library for your platform... using builtin-java classes where applicable\n",
      "Using Spark's default log4j profile: org/apache/spark/log4j-defaults.properties\n",
      "Setting default log level to \"WARN\".\n",
      "To adjust logging level use sc.setLogLevel(newLevel). For SparkR, use setLogLevel(newLevel).\n"
     ]
    }
   ],
   "source": [
    "from pyspark.sql import SparkSession \n",
    "\n",
    "spark = SparkSession.builder.appName('Subquery').getOrCreate()"
   ]
  },
  {
   "cell_type": "code",
   "execution_count": 2,
   "id": "aead4220",
   "metadata": {},
   "outputs": [
    {
     "name": "stderr",
     "output_type": "stream",
     "text": [
      "                                                                                \r"
     ]
    }
   ],
   "source": [
    "trips_df =  spark.read.csv('data/fhvhv_tripdata_2020-03.csv', inferSchema=True, header=True)"
   ]
  },
  {
   "cell_type": "code",
   "execution_count": 3,
   "id": "8693456b",
   "metadata": {},
   "outputs": [
    {
     "name": "stdout",
     "output_type": "stream",
     "text": [
      "+-----------------+--------------------+-------------------+-------------------+------------+------------+-------+\n",
      "|hvfhs_license_num|dispatching_base_num|    pickup_datetime|   dropoff_datetime|PULocationID|DOLocationID|SR_Flag|\n",
      "+-----------------+--------------------+-------------------+-------------------+------------+------------+-------+\n",
      "|           HV0005|              B02510|2020-03-01 00:03:40|2020-03-01 00:23:39|          81|         159|   null|\n",
      "|           HV0005|              B02510|2020-03-01 00:28:05|2020-03-01 00:38:57|         168|         119|   null|\n",
      "|           HV0003|              B02764|2020-03-01 00:03:07|2020-03-01 00:15:04|         137|         209|      1|\n",
      "|           HV0003|              B02764|2020-03-01 00:18:42|2020-03-01 00:38:42|         209|          80|   null|\n",
      "|           HV0003|              B02764|2020-03-01 00:44:24|2020-03-01 00:58:44|         256|         226|   null|\n",
      "+-----------------+--------------------+-------------------+-------------------+------------+------------+-------+\n",
      "only showing top 5 rows\n",
      "\n"
     ]
    }
   ],
   "source": [
    "trips_df.show(5)"
   ]
  },
  {
   "cell_type": "code",
   "execution_count": 4,
   "id": "e82da507",
   "metadata": {},
   "outputs": [],
   "source": [
    "trips_df.createOrReplaceTempView('mobility_data')"
   ]
  },
  {
   "cell_type": "code",
   "execution_count": 5,
   "id": "4b020d60",
   "metadata": {},
   "outputs": [
    {
     "name": "stdout",
     "output_type": "stream",
     "text": [
      "+-----------------+--------------------+-------------------+-------------------+------------+------------+-------+\n",
      "|hvfhs_license_num|dispatching_base_num|    pickup_datetime|   dropoff_datetime|PULocationID|DOLocationID|SR_Flag|\n",
      "+-----------------+--------------------+-------------------+-------------------+------------+------------+-------+\n",
      "|           HV0005|              B02510|2020-03-01 00:03:40|2020-03-01 00:23:39|          81|         159|   null|\n",
      "|           HV0005|              B02510|2020-03-01 00:28:05|2020-03-01 00:38:57|         168|         119|   null|\n",
      "|           HV0003|              B02764|2020-03-01 00:03:07|2020-03-01 00:15:04|         137|         209|      1|\n",
      "|           HV0003|              B02764|2020-03-01 00:18:42|2020-03-01 00:38:42|         209|          80|   null|\n",
      "|           HV0003|              B02764|2020-03-01 00:44:24|2020-03-01 00:58:44|         256|         226|   null|\n",
      "+-----------------+--------------------+-------------------+-------------------+------------+------------+-------+\n",
      "\n"
     ]
    }
   ],
   "source": [
    "query = '''\n",
    "SELECT *\n",
    "FROM mobility_data\n",
    "LIMIT 5\n",
    "'''\n",
    "\n",
    "spark.sql(query).show()"
   ]
  },
  {
   "cell_type": "code",
   "execution_count": 6,
   "id": "1b3fdcbe",
   "metadata": {},
   "outputs": [
    {
     "name": "stderr",
     "output_type": "stream",
     "text": [
      "[Stage 12:====================================================>  (96 + 2) / 100]\r"
     ]
    },
    {
     "name": "stdout",
     "output_type": "stream",
     "text": [
      "+-----------+------+\n",
      "|pickup_date| trips|\n",
      "+-----------+------+\n",
      "| 2020-03-16|391518|\n",
      "| 2020-03-03|697880|\n",
      "| 2020-03-06|872012|\n",
      "| 2020-03-26|141607|\n",
      "| 2020-03-05|731165|\n",
      "| 2020-03-02|648986|\n",
      "| 2020-03-25|141088|\n",
      "| 2020-03-20|261900|\n",
      "| 2020-03-24|141686|\n",
      "| 2020-03-04|707879|\n",
      "| 2020-03-10|626474|\n",
      "| 2020-03-12|643257|\n",
      "| 2020-03-11|628601|\n",
      "| 2020-03-13|660914|\n",
      "| 2020-03-27|159339|\n",
      "| 2020-03-22|162165|\n",
      "| 2020-03-28|138456|\n",
      "| 2020-03-01|784246|\n",
      "| 2020-03-19|252773|\n",
      "| 2020-03-09|628940|\n",
      "+-----------+------+\n",
      "only showing top 20 rows\n",
      "\n"
     ]
    },
    {
     "name": "stderr",
     "output_type": "stream",
     "text": [
      "\r",
      "                                                                                \r"
     ]
    }
   ],
   "source": [
    "query1 = '''\n",
    "SELECT split(pickup_datetime, ' ')[0] AS pickup_date,\n",
    "       count(*) AS trips\n",
    "FROM mobility_data\n",
    "GROUP BY pickup_date\n",
    "'''\n",
    "\n",
    "spark.sql(query1).show()"
   ]
  },
  {
   "cell_type": "code",
   "execution_count": 7,
   "id": "1354bc15",
   "metadata": {},
   "outputs": [
    {
     "name": "stdout",
     "output_type": "stream",
     "text": [
      "== Parsed Logical Plan ==\n",
      "'Aggregate ['pickup_date], ['split('pickup_datetime,  )[0] AS pickup_date#127, 'count(1) AS trips#128]\n",
      "+- 'UnresolvedRelation [mobility_data], [], false\n",
      "\n",
      "== Analyzed Logical Plan ==\n",
      "pickup_date: string, trips: bigint\n",
      "Aggregate [split(pickup_datetime#18,  , -1)[0]], [split(pickup_datetime#18,  , -1)[0] AS pickup_date#127, count(1) AS trips#128L]\n",
      "+- SubqueryAlias mobility_data\n",
      "   +- Relation[hvfhs_license_num#16,dispatching_base_num#17,pickup_datetime#18,dropoff_datetime#19,PULocationID#20,DOLocationID#21,SR_Flag#22] csv\n",
      "\n",
      "== Optimized Logical Plan ==\n",
      "Aggregate [split(pickup_datetime#18,  , -1)[0]], [split(pickup_datetime#18,  , -1)[0] AS pickup_date#127, count(1) AS trips#128L]\n",
      "+- Project [pickup_datetime#18]\n",
      "   +- Relation[hvfhs_license_num#16,dispatching_base_num#17,pickup_datetime#18,dropoff_datetime#19,PULocationID#20,DOLocationID#21,SR_Flag#22] csv\n",
      "\n",
      "== Physical Plan ==\n",
      "*(2) HashAggregate(keys=[split(pickup_datetime#18,  , -1)[0]#132], functions=[count(1)], output=[pickup_date#127, trips#128L])\n",
      "+- Exchange hashpartitioning(split(pickup_datetime#18,  , -1)[0]#132, 200), ENSURE_REQUIREMENTS, [id=#99]\n",
      "   +- *(1) HashAggregate(keys=[split(pickup_datetime#18,  , -1)[0] AS split(pickup_datetime#18,  , -1)[0]#132], functions=[partial_count(1)], output=[split(pickup_datetime#18,  , -1)[0]#132, count#134L])\n",
      "      +- FileScan csv [pickup_datetime#18] Batched: false, DataFilters: [], Format: CSV, Location: InMemoryFileIndex[file:/home/lab11/src/data/fhvhv_tripdata_2020-03.csv], PartitionFilters: [], PushedFilters: [], ReadSchema: struct<pickup_datetime:string>\n",
      "\n"
     ]
    }
   ],
   "source": [
    "spark.sql(query1).explain(True)"
   ]
  },
  {
   "cell_type": "code",
   "execution_count": 8,
   "id": "da18bd4f",
   "metadata": {},
   "outputs": [
    {
     "name": "stderr",
     "output_type": "stream",
     "text": [
      "                                                                                \r"
     ]
    },
    {
     "name": "stdout",
     "output_type": "stream",
     "text": [
      "+-----------+------+\n",
      "|pickup_date| trips|\n",
      "+-----------+------+\n",
      "| 2020-03-16|391518|\n",
      "| 2020-03-03|697880|\n",
      "| 2020-03-06|872012|\n",
      "| 2020-03-26|141607|\n",
      "| 2020-03-05|731165|\n",
      "| 2020-03-02|648986|\n",
      "| 2020-03-25|141088|\n",
      "| 2020-03-20|261900|\n",
      "| 2020-03-24|141686|\n",
      "| 2020-03-04|707879|\n",
      "| 2020-03-10|626474|\n",
      "| 2020-03-12|643257|\n",
      "| 2020-03-11|628601|\n",
      "| 2020-03-13|660914|\n",
      "| 2020-03-27|159339|\n",
      "| 2020-03-22|162165|\n",
      "| 2020-03-28|138456|\n",
      "| 2020-03-01|784246|\n",
      "| 2020-03-19|252773|\n",
      "| 2020-03-09|628940|\n",
      "+-----------+------+\n",
      "only showing top 20 rows\n",
      "\n"
     ]
    }
   ],
   "source": [
    "query2 = '''\n",
    "SELECT pickup_date,\n",
    "       count(*) AS trips\n",
    "FROM\n",
    "    (SELECT\n",
    "        split(pickup_datetime, ' ')[0] AS pickup_date\n",
    "        FROM mobility_data)\n",
    "GROUP BY pickup_date\n",
    "'''\n",
    "\n",
    "spark.sql(query2).show()"
   ]
  },
  {
   "cell_type": "code",
   "execution_count": 9,
   "id": "d93d05a6",
   "metadata": {},
   "outputs": [
    {
     "name": "stdout",
     "output_type": "stream",
     "text": [
      "== Parsed Logical Plan ==\n",
      "'Aggregate ['pickup_date], ['pickup_date, 'count(1) AS trips#153]\n",
      "+- 'SubqueryAlias __auto_generated_subquery_name\n",
      "   +- 'Project ['split('pickup_datetime,  )[0] AS pickup_date#152]\n",
      "      +- 'UnresolvedRelation [mobility_data], [], false\n",
      "\n",
      "== Analyzed Logical Plan ==\n",
      "pickup_date: string, trips: bigint\n",
      "Aggregate [pickup_date#152], [pickup_date#152, count(1) AS trips#153L]\n",
      "+- SubqueryAlias __auto_generated_subquery_name\n",
      "   +- Project [split(pickup_datetime#18,  , -1)[0] AS pickup_date#152]\n",
      "      +- SubqueryAlias mobility_data\n",
      "         +- Relation[hvfhs_license_num#16,dispatching_base_num#17,pickup_datetime#18,dropoff_datetime#19,PULocationID#20,DOLocationID#21,SR_Flag#22] csv\n",
      "\n",
      "== Optimized Logical Plan ==\n",
      "Aggregate [pickup_date#152], [pickup_date#152, count(1) AS trips#153L]\n",
      "+- Project [split(pickup_datetime#18,  , -1)[0] AS pickup_date#152]\n",
      "   +- Relation[hvfhs_license_num#16,dispatching_base_num#17,pickup_datetime#18,dropoff_datetime#19,PULocationID#20,DOLocationID#21,SR_Flag#22] csv\n",
      "\n",
      "== Physical Plan ==\n",
      "*(2) HashAggregate(keys=[pickup_date#152], functions=[count(1)], output=[pickup_date#152, trips#153L])\n",
      "+- Exchange hashpartitioning(pickup_date#152, 200), ENSURE_REQUIREMENTS, [id=#148]\n",
      "   +- *(1) HashAggregate(keys=[pickup_date#152], functions=[partial_count(1)], output=[pickup_date#152, count#158L])\n",
      "      +- *(1) Project [split(pickup_datetime#18,  , -1)[0] AS pickup_date#152]\n",
      "         +- FileScan csv [pickup_datetime#18] Batched: false, DataFilters: [], Format: CSV, Location: InMemoryFileIndex[file:/home/lab11/src/data/fhvhv_tripdata_2020-03.csv], PartitionFilters: [], PushedFilters: [], ReadSchema: struct<pickup_datetime:string>\n",
      "\n"
     ]
    }
   ],
   "source": [
    "spark.sql(query2).explain(True)"
   ]
  },
  {
   "cell_type": "code",
   "execution_count": 10,
   "id": "8a0c62f8",
   "metadata": {},
   "outputs": [],
   "source": [
    "spark.stop()"
   ]
  }
 ],
 "metadata": {
  "kernelspec": {
   "display_name": "Python (spark_start)",
   "language": "python",
   "name": "spark_start"
  },
  "language_info": {
   "codemirror_mode": {
    "name": "ipython",
    "version": 3
   },
   "file_extension": ".py",
   "mimetype": "text/x-python",
   "name": "python",
   "nbconvert_exporter": "python",
   "pygments_lexer": "ipython3",
   "version": "3.8.20"
  }
 },
 "nbformat": 4,
 "nbformat_minor": 5
}

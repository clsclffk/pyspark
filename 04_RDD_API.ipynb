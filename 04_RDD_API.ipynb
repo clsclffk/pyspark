{
 "cells": [
  {
   "cell_type": "code",
   "execution_count": 1,
   "id": "d87cbbee",
   "metadata": {},
   "outputs": [
    {
     "name": "stderr",
     "output_type": "stream",
     "text": [
      "24/12/04 11:39:43 WARN NativeCodeLoader: Unable to load native-hadoop library for your platform... using builtin-java classes where applicable\n",
      "Using Spark's default log4j profile: org/apache/spark/log4j-defaults.properties\n",
      "Setting default log level to \"WARN\".\n",
      "To adjust logging level use sc.setLogLevel(newLevel). For SparkR, use setLogLevel(newLevel).\n"
     ]
    },
    {
     "data": {
      "text/html": [
       "\n",
       "        <div>\n",
       "            <p><b>SparkContext</b></p>\n",
       "\n",
       "            <p><a href=\"http://ip-172-31-13-61.ap-northeast-3.compute.internal:4040\">Spark UI</a></p>\n",
       "\n",
       "            <dl>\n",
       "              <dt>Version</dt>\n",
       "                <dd><code>v3.1.2</code></dd>\n",
       "              <dt>Master</dt>\n",
       "                <dd><code>local</code></dd>\n",
       "              <dt>AppName</dt>\n",
       "                <dd><code>241204_01_RDD_API</code></dd>\n",
       "            </dl>\n",
       "        </div>\n",
       "        "
      ],
      "text/plain": [
       "<SparkContext master=local appName=241204_01_RDD_API>"
      ]
     },
     "execution_count": 1,
     "metadata": {},
     "output_type": "execute_result"
    }
   ],
   "source": [
    "from pyspark import SparkConf, SparkContext\n",
    "# 스파크 환경 설정 객체 생성\n",
    "conf = SparkConf().setMaster(\"local\").setAppName(\"241204_01_RDD_API\")\n",
    "spark = SparkContext(conf=conf).getOrCreate()\n",
    "spark"
   ]
  },
  {
   "cell_type": "code",
   "execution_count": 2,
   "id": "df76dbbd",
   "metadata": {},
   "outputs": [
    {
     "data": {
      "text/plain": [
       "ParallelCollectionRDD[0] at readRDDFromFile at PythonRDD.scala:274"
      ]
     },
     "execution_count": 2,
     "metadata": {},
     "output_type": "execute_result"
    }
   ],
   "source": [
    "foods = spark.parallelize([ \"짜장면\", \"마라탕\", \"짬뽕\", \"떡볶이\", \"쌀국수\", \"짬뽕\", \"짜장면\", \"짜장면\", \"짜장면\", \"라면\", \"우동\", \"라면\" ] )\n",
    "foods"
   ]
  },
  {
   "cell_type": "code",
   "execution_count": 3,
   "id": "12fb9b52",
   "metadata": {},
   "outputs": [
    {
     "name": "stderr",
     "output_type": "stream",
     "text": [
      "                                                                                \r"
     ]
    },
    {
     "data": {
      "text/plain": [
       "['짜장면', '마라탕', '짬뽕', '떡볶이', '쌀국수', '짬뽕', '짜장면', '짜장면', '짜장면', '라면', '우동', '라면']"
      ]
     },
     "execution_count": 3,
     "metadata": {},
     "output_type": "execute_result"
    }
   ],
   "source": [
    "# 모두 메모리에 올리기\n",
    "foods.collect()"
   ]
  },
  {
   "cell_type": "code",
   "execution_count": 4,
   "id": "ffd613ba",
   "metadata": {},
   "outputs": [
    {
     "name": "stderr",
     "output_type": "stream",
     "text": [
      "\r",
      "[Stage 1:>                                                          (0 + 1) / 1]\r",
      "\r",
      "                                                                                \r"
     ]
    },
    {
     "data": {
      "text/plain": [
       "defaultdict(int,\n",
       "            {'짜장면': 4,\n",
       "             '마라탕': 1,\n",
       "             '짬뽕': 2,\n",
       "             '떡볶이': 1,\n",
       "             '쌀국수': 1,\n",
       "             '라면': 2,\n",
       "             '우동': 1})"
      ]
     },
     "execution_count": 4,
     "metadata": {},
     "output_type": "execute_result"
    }
   ],
   "source": [
    "# 값을 기준으로 카운트\n",
    "foods.countByValue()"
   ]
  },
  {
   "cell_type": "code",
   "execution_count": 5,
   "id": "e051ea4f",
   "metadata": {},
   "outputs": [
    {
     "data": {
      "text/plain": [
       "['짜장면', '마라탕', '짬뽕']"
      ]
     },
     "execution_count": 5,
     "metadata": {},
     "output_type": "execute_result"
    }
   ],
   "source": [
    "# 상위 3개\n",
    "foods.take(3)"
   ]
  },
  {
   "cell_type": "code",
   "execution_count": 6,
   "id": "5d503e47",
   "metadata": {},
   "outputs": [
    {
     "data": {
      "text/plain": [
       "'짜장면'"
      ]
     },
     "execution_count": 6,
     "metadata": {},
     "output_type": "execute_result"
    }
   ],
   "source": [
    "# 처음 1개\n",
    "foods.first()"
   ]
  },
  {
   "cell_type": "code",
   "execution_count": 7,
   "id": "c6a65022",
   "metadata": {},
   "outputs": [
    {
     "data": {
      "text/plain": [
       "12"
      ]
     },
     "execution_count": 7,
     "metadata": {},
     "output_type": "execute_result"
    }
   ],
   "source": [
    "# RDD 개수\n",
    "foods.count()"
   ]
  },
  {
   "cell_type": "code",
   "execution_count": 8,
   "id": "6ec807cf",
   "metadata": {},
   "outputs": [
    {
     "data": {
      "text/plain": [
       "PythonRDD[9] at RDD at PythonRDD.scala:53"
      ]
     },
     "execution_count": 8,
     "metadata": {},
     "output_type": "execute_result"
    }
   ],
   "source": [
    "# 중복 제거\n",
    "foods.distinct()"
   ]
  },
  {
   "cell_type": "code",
   "execution_count": 9,
   "id": "19391b05",
   "metadata": {},
   "outputs": [
    {
     "name": "stderr",
     "output_type": "stream",
     "text": [
      "\r",
      "[Stage 5:>                                                          (0 + 1) / 1]\r",
      "\r",
      "                                                                                \r"
     ]
    },
    {
     "data": {
      "text/plain": [
       "['짜장면', '마라탕', '짬뽕', '떡볶이', '쌀국수', '라면', '우동']"
      ]
     },
     "execution_count": 9,
     "metadata": {},
     "output_type": "execute_result"
    }
   ],
   "source": [
    "# action 연산\n",
    "foods.distinct().collect()"
   ]
  },
  {
   "cell_type": "code",
   "execution_count": 10,
   "id": "09f54b4a",
   "metadata": {},
   "outputs": [
    {
     "name": "stderr",
     "output_type": "stream",
     "text": [
      "짜장면\n",
      "마라탕\n",
      "짬뽕\n",
      "떡볶이\n",
      "쌀국수\n",
      "짬뽕\n",
      "짜장면\n",
      "짜장면\n",
      "짜장면\n",
      "라면\n",
      "우동\n",
      "라면\n"
     ]
    }
   ],
   "source": [
    "# 워커노드에서 실행하는 기능\n",
    "foods.foreach(lambda x:print(x))"
   ]
  },
  {
   "cell_type": "code",
   "execution_count": 11,
   "id": "8b6afd2a",
   "metadata": {},
   "outputs": [
    {
     "data": {
      "text/plain": [
       "[3, 4, 5, 6, 7]"
      ]
     },
     "execution_count": 11,
     "metadata": {},
     "output_type": "execute_result"
    }
   ],
   "source": [
    "# Narrow Operation : filter(), map(), flatMap(), sample(), union()\n",
    "sample_rdd = spark.parallelize([1,2,3,4,5])\n",
    "sample_rdd2 = sample_rdd.map(lambda x:x+2)\n",
    "sample_rdd2.collect()"
   ]
  },
  {
   "cell_type": "code",
   "execution_count": 13,
   "id": "d3cd660e",
   "metadata": {},
   "outputs": [],
   "source": [
    "movies = [\n",
    "    \"Iron Man\",\n",
    "    \"The Incredible Hulk\",\n",
    "    \"Thor\",\n",
    "    \"Captain America: The First Avenger\",\n",
    "    \"The Avengers\",\n",
    "    \"Guardians of the Galaxy\",\n",
    "    \"Ant Man\",\n",
    "    \"Doctor Strange\",\n",
    "    \"Black Panther\",\n",
    "    \"Spider Man: Homecoming\"\n",
    "]"
   ]
  },
  {
   "cell_type": "code",
   "execution_count": 14,
   "id": "6376dcab",
   "metadata": {},
   "outputs": [
    {
     "data": {
      "text/plain": [
       "[['Iron', 'Man'],\n",
       " ['The', 'Incredible', 'Hulk'],\n",
       " ['Thor'],\n",
       " ['Captain', 'America:', 'The', 'First', 'Avenger'],\n",
       " ['The', 'Avengers'],\n",
       " ['Guardians', 'of', 'the', 'Galaxy'],\n",
       " ['Ant', 'Man'],\n",
       " ['Doctor', 'Strange'],\n",
       " ['Black', 'Panther'],\n",
       " ['Spider', 'Man:', 'Homecoming']]"
      ]
     },
     "execution_count": 14,
     "metadata": {},
     "output_type": "execute_result"
    }
   ],
   "source": [
    "moviesRDD = spark.parallelize(movies)\n",
    "mapMovies = moviesRDD.map(lambda x:x.split(' '))\n",
    "mapMovies.collect()"
   ]
  },
  {
   "cell_type": "code",
   "execution_count": 16,
   "id": "6e2017d9",
   "metadata": {
    "scrolled": true
   },
   "outputs": [
    {
     "data": {
      "text/plain": [
       "['Iron',\n",
       " 'Man',\n",
       " 'The',\n",
       " 'Incredible',\n",
       " 'Hulk',\n",
       " 'Thor',\n",
       " 'Captain',\n",
       " 'America:',\n",
       " 'The',\n",
       " 'First',\n",
       " 'Avenger',\n",
       " 'The',\n",
       " 'Avengers',\n",
       " 'Guardians',\n",
       " 'of',\n",
       " 'the',\n",
       " 'Galaxy',\n",
       " 'Ant',\n",
       " 'Man',\n",
       " 'Doctor',\n",
       " 'Strange',\n",
       " 'Black',\n",
       " 'Panther',\n",
       " 'Spider',\n",
       " 'Man:',\n",
       " 'Homecoming']"
      ]
     },
     "execution_count": 16,
     "metadata": {},
     "output_type": "execute_result"
    }
   ],
   "source": [
    "flatMapMovies = moviesRDD.flatMap(lambda x:x.split(\" \"))\n",
    "flatMapMovies.collect()"
   ]
  },
  {
   "cell_type": "code",
   "execution_count": 17,
   "id": "f5ecad8e",
   "metadata": {
    "scrolled": true
   },
   "outputs": [
    {
     "data": {
      "text/plain": [
       "['Iron',\n",
       " 'The',\n",
       " 'Incredible',\n",
       " 'Hulk',\n",
       " 'Thor',\n",
       " 'Captain',\n",
       " 'America:',\n",
       " 'The',\n",
       " 'First',\n",
       " 'Avenger',\n",
       " 'The',\n",
       " 'Avengers',\n",
       " 'Guardians',\n",
       " 'of',\n",
       " 'the',\n",
       " 'Galaxy',\n",
       " 'Ant',\n",
       " 'Doctor',\n",
       " 'Strange',\n",
       " 'Black',\n",
       " 'Panther',\n",
       " 'Spider',\n",
       " 'Man:',\n",
       " 'Homecoming']"
      ]
     },
     "execution_count": 17,
     "metadata": {},
     "output_type": "execute_result"
    }
   ],
   "source": [
    "filteredMovies = flatMapMovies.filter(lambda x:x != 'Man')\n",
    "filteredMovies.collect()"
   ]
  },
  {
   "cell_type": "code",
   "execution_count": 19,
   "id": "1106f7db",
   "metadata": {},
   "outputs": [
    {
     "data": {
      "text/plain": [
       "[4, 5]"
      ]
     },
     "execution_count": 19,
     "metadata": {},
     "output_type": "execute_result"
    }
   ],
   "source": [
    "# 집합연산\n",
    "num1 = spark.parallelize([1,2,3,4,5])\n",
    "num2 = spark.parallelize([4,5,6,7,8,9,10])\n",
    "\n",
    "# intersection\n",
    "num1.intersection(num2).collect()"
   ]
  },
  {
   "cell_type": "code",
   "execution_count": 20,
   "id": "8537dd19",
   "metadata": {},
   "outputs": [
    {
     "data": {
      "text/plain": [
       "[1, 2, 3, 4, 5, 4, 5, 6, 7, 8, 9, 10]"
      ]
     },
     "execution_count": 20,
     "metadata": {},
     "output_type": "execute_result"
    }
   ],
   "source": [
    "# union\n",
    "num1.union(num2).collect()"
   ]
  },
  {
   "cell_type": "code",
   "execution_count": 24,
   "id": "0e53ba5a",
   "metadata": {},
   "outputs": [
    {
     "data": {
      "text/plain": [
       "[2, 1, 3]"
      ]
     },
     "execution_count": 24,
     "metadata": {},
     "output_type": "execute_result"
    }
   ],
   "source": [
    "# subtract\n",
    "num1.subtract(num2).collect()"
   ]
  },
  {
   "cell_type": "code",
   "execution_count": 25,
   "id": "c2d8fa22",
   "metadata": {},
   "outputs": [
    {
     "data": {
      "text/plain": [
       "[1, 2, 3, 4, 5, 4, 5, 6, 7, 8, 9, 10]"
      ]
     },
     "execution_count": 25,
     "metadata": {},
     "output_type": "execute_result"
    }
   ],
   "source": [
    "# sample(withReplacement, fraction, seed)\n",
    "numlist = num1.union(num2)\n",
    "numlist.collect()"
   ]
  },
  {
   "cell_type": "code",
   "execution_count": 26,
   "id": "3c3adf26",
   "metadata": {},
   "outputs": [
    {
     "data": {
      "text/plain": [
       "[3, 6]"
      ]
     },
     "execution_count": 26,
     "metadata": {},
     "output_type": "execute_result"
    }
   ],
   "source": [
    "numlist.sample(True, 0.3).collect()"
   ]
  },
  {
   "cell_type": "code",
   "execution_count": 27,
   "id": "52a6f3f7",
   "metadata": {},
   "outputs": [
    {
     "data": {
      "text/plain": [
       "[1, 1, 2, 7, 9, 9]"
      ]
     },
     "execution_count": 27,
     "metadata": {},
     "output_type": "execute_result"
    }
   ],
   "source": [
    "numlist.sample(True, 0.5).collect()"
   ]
  },
  {
   "cell_type": "code",
   "execution_count": 28,
   "id": "1932e201",
   "metadata": {},
   "outputs": [
    {
     "data": {
      "text/plain": [
       "[6, 6, 6]"
      ]
     },
     "execution_count": 28,
     "metadata": {},
     "output_type": "execute_result"
    }
   ],
   "source": [
    "numlist.sample(True, 0.3, seed=42).collect()"
   ]
  },
  {
   "cell_type": "code",
   "execution_count": 30,
   "id": "54e82546",
   "metadata": {},
   "outputs": [
    {
     "data": {
      "text/plain": [
       "['짜장면', '마라탕', '짬뽕', '떡볶이', '쌀국수', '짬뽕', '짜장면', '짜장면', '짜장면', '라면', '우동', '라면']"
      ]
     },
     "execution_count": 30,
     "metadata": {},
     "output_type": "execute_result"
    }
   ],
   "source": [
    "# wide transformation : groupby(), reduce()\n",
    "foods.collect()"
   ]
  },
  {
   "cell_type": "code",
   "execution_count": 33,
   "id": "3dab7fdd",
   "metadata": {},
   "outputs": [
    {
     "data": {
      "text/plain": [
       "[('짜', <pyspark.resultiterable.ResultIterable at 0x7f7cff0a71f0>),\n",
       " ('마', <pyspark.resultiterable.ResultIterable at 0x7f7cff10cb20>),\n",
       " ('짬', <pyspark.resultiterable.ResultIterable at 0x7f7cff10c0d0>),\n",
       " ('떡', <pyspark.resultiterable.ResultIterable at 0x7f7cff10c760>),\n",
       " ('쌀', <pyspark.resultiterable.ResultIterable at 0x7f7cff10ccd0>),\n",
       " ('라', <pyspark.resultiterable.ResultIterable at 0x7f7cff10cca0>),\n",
       " ('우', <pyspark.resultiterable.ResultIterable at 0x7f7cff10c040>)]"
      ]
     },
     "execution_count": 33,
     "metadata": {},
     "output_type": "execute_result"
    }
   ],
   "source": [
    "foodsGroup = foods.groupBy(lambda x:x[0])\n",
    "result = foodsGroup.collect()\n",
    "result"
   ]
  },
  {
   "cell_type": "code",
   "execution_count": 35,
   "id": "9a55ac98",
   "metadata": {},
   "outputs": [
    {
     "name": "stdout",
     "output_type": "stream",
     "text": [
      "짜 ['짜장면', '짜장면', '짜장면', '짜장면']\n",
      "마 ['마라탕']\n",
      "짬 ['짬뽕', '짬뽕']\n",
      "떡 ['떡볶이']\n",
      "쌀 ['쌀국수']\n",
      "라 ['라면', '라면']\n",
      "우 ['우동']\n"
     ]
    }
   ],
   "source": [
    "for (k,v) in result:\n",
    "    print(k, list(v))"
   ]
  },
  {
   "cell_type": "code",
   "execution_count": 37,
   "id": "c40e16df",
   "metadata": {},
   "outputs": [],
   "source": [
    "spark.stop()"
   ]
  }
 ],
 "metadata": {
  "kernelspec": {
   "display_name": "Python (spark_start)",
   "language": "python",
   "name": "spark_start"
  },
  "language_info": {
   "codemirror_mode": {
    "name": "ipython",
    "version": 3
   },
   "file_extension": ".py",
   "mimetype": "text/x-python",
   "name": "python",
   "nbconvert_exporter": "python",
   "pygments_lexer": "ipython3",
   "version": "3.8.20"
  }
 },
 "nbformat": 4,
 "nbformat_minor": 5
}

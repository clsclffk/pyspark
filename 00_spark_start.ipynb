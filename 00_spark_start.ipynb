{
 "cells": [
  {
   "cell_type": "code",
   "execution_count": 1,
   "id": "0a02d9f9",
   "metadata": {},
   "outputs": [
    {
     "name": "stderr",
     "output_type": "stream",
     "text": [
      "24/12/03 10:27:55 WARN NativeCodeLoader: Unable to load native-hadoop library for your platform... using builtin-java classes where applicable\n",
      "Using Spark's default log4j profile: org/apache/spark/log4j-defaults.properties\n",
      "Setting default log level to \"WARN\".\n",
      "To adjust logging level use sc.setLogLevel(newLevel). For SparkR, use setLogLevel(newLevel).\n"
     ]
    }
   ],
   "source": [
    "from pyspark.sql import SparkSession\n",
    "\n",
    "spark = SparkSession.builder.appName(\"PySpark Example\").getOrCreate()"
   ]
  },
  {
   "cell_type": "markdown",
   "id": "e667a69b",
   "metadata": {},
   "source": [
    "## RDD 객체"
   ]
  },
  {
   "cell_type": "code",
   "execution_count": 3,
   "id": "fe4a72c6",
   "metadata": {},
   "outputs": [
    {
     "data": {
      "text/plain": [
       "ParallelCollectionRDD[0] at readRDDFromFile at PythonRDD.scala:274"
      ]
     },
     "execution_count": 3,
     "metadata": {},
     "output_type": "execute_result"
    }
   ],
   "source": [
    "rdd = spark.sparkContext.parallelize([1,2,3,4,5])\n",
    "rdd"
   ]
  },
  {
   "cell_type": "code",
   "execution_count": 4,
   "id": "dc9b7a2a",
   "metadata": {},
   "outputs": [
    {
     "data": {
      "text/plain": [
       "PythonRDD[1] at RDD at PythonRDD.scala:53"
      ]
     },
     "execution_count": 4,
     "metadata": {},
     "output_type": "execute_result"
    }
   ],
   "source": [
    "squared_rdd = rdd.map(lambda x:x*x)\n",
    "squared_rdd"
   ]
  },
  {
   "cell_type": "code",
   "execution_count": 5,
   "id": "ae8aa1e9",
   "metadata": {},
   "outputs": [
    {
     "name": "stderr",
     "output_type": "stream",
     "text": [
      "                                                                                \r"
     ]
    },
    {
     "data": {
      "text/plain": [
       "[1, 2, 3, 4, 5]"
      ]
     },
     "execution_count": 5,
     "metadata": {},
     "output_type": "execute_result"
    }
   ],
   "source": [
    "rdd.take(5)"
   ]
  },
  {
   "cell_type": "code",
   "execution_count": 6,
   "id": "cf52aac8",
   "metadata": {},
   "outputs": [
    {
     "data": {
      "text/plain": [
       "[1, 4, 9, 16, 25]"
      ]
     },
     "execution_count": 6,
     "metadata": {},
     "output_type": "execute_result"
    }
   ],
   "source": [
    "squared_rdd.take(5)"
   ]
  },
  {
   "cell_type": "code",
   "execution_count": 7,
   "id": "1159678f",
   "metadata": {},
   "outputs": [
    {
     "data": {
      "text/plain": [
       "[1, 4, 9, 16, 25]"
      ]
     },
     "execution_count": 7,
     "metadata": {},
     "output_type": "execute_result"
    }
   ],
   "source": [
    "squared_rdd.collect()"
   ]
  },
  {
   "cell_type": "markdown",
   "id": "284df8ad",
   "metadata": {},
   "source": [
    "##  http://15.168.145.74:4040/jobs/ 에서 작업 현황 확인"
   ]
  },
  {
   "cell_type": "markdown",
   "id": "b37263ea",
   "metadata": {},
   "source": [
    "## 데이터프레임 객체"
   ]
  },
  {
   "cell_type": "code",
   "execution_count": 8,
   "id": "48d51987",
   "metadata": {},
   "outputs": [
    {
     "data": {
      "text/plain": [
       "DataFrame[Name: string, Value: bigint]"
      ]
     },
     "execution_count": 8,
     "metadata": {},
     "output_type": "execute_result"
    }
   ],
   "source": [
    "data = [('Alice',1), ('Bob',2), ('Charlie',3)]\n",
    "df = spark.createDataFrame(data, ['Name','Value'])\n",
    "df"
   ]
  },
  {
   "cell_type": "code",
   "execution_count": 9,
   "id": "91ea3e37",
   "metadata": {},
   "outputs": [
    {
     "name": "stdout",
     "output_type": "stream",
     "text": [
      "+-------+-----+\n",
      "|   Name|Value|\n",
      "+-------+-----+\n",
      "|  Alice|    1|\n",
      "|    Bob|    2|\n",
      "|Charlie|    3|\n",
      "+-------+-----+\n",
      "\n"
     ]
    }
   ],
   "source": [
    "df.show()"
   ]
  },
  {
   "cell_type": "markdown",
   "id": "e576ba85",
   "metadata": {},
   "source": [
    "## RDBMS - 테이블"
   ]
  },
  {
   "cell_type": "code",
   "execution_count": 10,
   "id": "11fe1fce",
   "metadata": {},
   "outputs": [],
   "source": [
    "df.createOrReplaceTempView('people')"
   ]
  },
  {
   "cell_type": "code",
   "execution_count": 15,
   "id": "8428e571",
   "metadata": {},
   "outputs": [],
   "source": [
    "select_sql = \"SELECT * FROM people WHERE Value > 2\""
   ]
  },
  {
   "cell_type": "code",
   "execution_count": 16,
   "id": "6de2a6d1",
   "metadata": {},
   "outputs": [
    {
     "name": "stdout",
     "output_type": "stream",
     "text": [
      "+-------+-----+\n",
      "|   Name|Value|\n",
      "+-------+-----+\n",
      "|Charlie|    3|\n",
      "+-------+-----+\n",
      "\n"
     ]
    }
   ],
   "source": [
    "result_sql = spark.sql(select_sql)\n",
    "result_sql.show()"
   ]
  },
  {
   "cell_type": "code",
   "execution_count": 18,
   "id": "54d6a55c",
   "metadata": {},
   "outputs": [
    {
     "data": {
      "text/plain": [
       "DataFrame[Name: string, Id: bigint, Department: string]"
      ]
     },
     "execution_count": 18,
     "metadata": {},
     "output_type": "execute_result"
    }
   ],
   "source": [
    "data2 = [('John',1, 'Sales'), ('Bob',2, 'Marketing'), ('Charlie',3, 'Finance'),\n",
    "        ('Smith', 4, 'R&D'), ('Kate',5, 'Operations'), ('Jack',6,'Legal'),\n",
    "        ('Tom', 7, 'HR'), ('Kim',8,'IT')]\n",
    "df2 = spark.createDataFrame(data2, ['Name','Id','Department'])\n",
    "df2"
   ]
  },
  {
   "cell_type": "code",
   "execution_count": 19,
   "id": "48723416",
   "metadata": {},
   "outputs": [
    {
     "name": "stdout",
     "output_type": "stream",
     "text": [
      "+-------+---+----------+\n",
      "|   Name| Id|Department|\n",
      "+-------+---+----------+\n",
      "|   John|  1|     Sales|\n",
      "|    Bob|  2| Marketing|\n",
      "|Charlie|  3|   Finance|\n",
      "|  Smith|  4|       R&D|\n",
      "|   Kate|  5|Operations|\n",
      "|   Jack|  6|     Legal|\n",
      "|    Tom|  7|        HR|\n",
      "|    Kim|  8|        IT|\n",
      "+-------+---+----------+\n",
      "\n"
     ]
    }
   ],
   "source": [
    "df2.show()"
   ]
  },
  {
   "cell_type": "markdown",
   "id": "f2f5ba1e",
   "metadata": {},
   "source": [
    "## MLlib"
   ]
  },
  {
   "cell_type": "code",
   "execution_count": 22,
   "id": "0e01b636",
   "metadata": {},
   "outputs": [
    {
     "name": "stdout",
     "output_type": "stream",
     "text": [
      "Collecting numpy\n",
      "  Downloading numpy-1.24.4-cp38-cp38-manylinux_2_17_x86_64.manylinux2014_x86_64.whl.metadata (5.6 kB)\n",
      "Downloading numpy-1.24.4-cp38-cp38-manylinux_2_17_x86_64.manylinux2014_x86_64.whl (17.3 MB)\n",
      "\u001b[2K   \u001b[90m━━━━━━━━━━━━━━━━━━━━━━━━━━━━━━━━━━━━━━━━\u001b[0m \u001b[32m17.3/17.3 MB\u001b[0m \u001b[31m91.4 MB/s\u001b[0m eta \u001b[36m0:00:00\u001b[0m\n",
      "\u001b[?25hInstalling collected packages: numpy\n",
      "Successfully installed numpy-1.24.4\n"
     ]
    }
   ],
   "source": [
    "!pip install numpy"
   ]
  },
  {
   "cell_type": "code",
   "execution_count": 23,
   "id": "fdbc41d1",
   "metadata": {},
   "outputs": [],
   "source": [
    "import numpy as np"
   ]
  },
  {
   "cell_type": "code",
   "execution_count": 24,
   "id": "d53b9fa7",
   "metadata": {},
   "outputs": [],
   "source": [
    "from pyspark.ml.feature import VectorAssembler\n",
    "from pyspark.ml.regression import LinearRegression"
   ]
  },
  {
   "cell_type": "code",
   "execution_count": 26,
   "id": "da6c96f5",
   "metadata": {},
   "outputs": [
    {
     "name": "stdout",
     "output_type": "stream",
     "text": [
      "+-------+---+\n",
      "|   Name|age|\n",
      "+-------+---+\n",
      "|Charlie|  3|\n",
      "+-------+---+\n",
      "\n"
     ]
    }
   ],
   "source": [
    "data3 = [('Alice',1), ('Bob',2), ('Charlie',3)]\n",
    "df3 = spark.createDataFrame(data, ['Name','age'])\n",
    "\n",
    "df3_filtered = df3.filter(df3.age > 2)\n",
    "df3_filtered.show()"
   ]
  },
  {
   "cell_type": "code",
   "execution_count": 27,
   "id": "5dd188a7",
   "metadata": {},
   "outputs": [],
   "source": [
    "assembler = VectorAssembler(inputCols=['age'], outputCol='features')\n",
    "vector_df3 = assembler.transform(df3)"
   ]
  },
  {
   "cell_type": "code",
   "execution_count": 28,
   "id": "684d1704",
   "metadata": {},
   "outputs": [
    {
     "name": "stderr",
     "output_type": "stream",
     "text": [
      "24/12/03 11:30:26 WARN Instrumentation: [71a2e23f] regParam is zero, which might cause numerical instability and overfitting.\n",
      "24/12/03 11:30:27 WARN BLAS: Failed to load implementation from: com.github.fommil.netlib.NativeSystemBLAS\n",
      "24/12/03 11:30:27 WARN BLAS: Failed to load implementation from: com.github.fommil.netlib.NativeRefBLAS\n",
      "24/12/03 11:30:27 WARN LAPACK: Failed to load implementation from: com.github.fommil.netlib.NativeSystemLAPACK\n",
      "24/12/03 11:30:27 WARN LAPACK: Failed to load implementation from: com.github.fommil.netlib.NativeRefLAPACK\n"
     ]
    }
   ],
   "source": [
    "lr = LinearRegression(featuresCol='features', labelCol='age')\n",
    "model = lr.fit(vector_df3)"
   ]
  },
  {
   "cell_type": "code",
   "execution_count": 29,
   "id": "da0515f4",
   "metadata": {},
   "outputs": [
    {
     "name": "stdout",
     "output_type": "stream",
     "text": [
      "+-------+---+--------+------------------+\n",
      "|   Name|age|features|        prediction|\n",
      "+-------+---+--------+------------------+\n",
      "|  Alice|  1|   [1.0]|0.9999999999999986|\n",
      "|    Bob|  2|   [2.0]|1.9999999999999998|\n",
      "|Charlie|  3|   [3.0]| 3.000000000000001|\n",
      "+-------+---+--------+------------------+\n",
      "\n"
     ]
    }
   ],
   "source": [
    "pred = model.transform(vector_df3)\n",
    "pred.show()"
   ]
  },
  {
   "cell_type": "code",
   "execution_count": 30,
   "id": "c832150e",
   "metadata": {},
   "outputs": [],
   "source": [
    "spark.stop()"
   ]
  }
 ],
 "metadata": {
  "kernelspec": {
   "display_name": "Python (spark_start)",
   "language": "python",
   "name": "spark_start"
  },
  "language_info": {
   "codemirror_mode": {
    "name": "ipython",
    "version": 3
   },
   "file_extension": ".py",
   "mimetype": "text/x-python",
   "name": "python",
   "nbconvert_exporter": "python",
   "pygments_lexer": "ipython3",
   "version": "3.8.20"
  }
 },
 "nbformat": 4,
 "nbformat_minor": 5
}
